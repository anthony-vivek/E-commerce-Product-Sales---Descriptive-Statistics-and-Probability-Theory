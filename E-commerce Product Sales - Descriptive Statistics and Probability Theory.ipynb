{
 "cells": [
  {
   "cell_type": "markdown",
   "metadata": {},
   "source": [
    "### The objective of this notebook is to better understand how various products from an e-commerce company perform across regions, in order to devise its sales strategy for next year.\n",
    "### This notebook begins with an analysis on the data set with analytical insights discussed under their respective code cells. \n",
    "### The three questions answered towards the end of the notebook are:\n",
    "- What conclusions can you draw about sales performance of various products and regions?\n",
    "- What recommendations do you have for the business?\n",
    "- Describe your data cleaning approach. How and why did you decide on which cleaning techniques to use?"
   ]
  },
  {
   "cell_type": "code",
   "execution_count": 1,
   "metadata": {},
   "outputs": [],
   "source": [
    "import pandas as pd\n",
    "import matplotlib.pyplot as plt"
   ]
  },
  {
   "cell_type": "code",
   "execution_count": 2,
   "metadata": {},
   "outputs": [],
   "source": [
    "df = pd.read_csv(\"sales_data.csv\")"
   ]
  },
  {
   "attachments": {},
   "cell_type": "markdown",
   "metadata": {},
   "source": [
    "Before we start analyzing the data we can first take a look at the structure of the data by looking at the head of the dataframe."
   ]
  },
  {
   "cell_type": "code",
   "execution_count": 3,
   "metadata": {},
   "outputs": [
    {
     "data": {
      "text/html": [
       "<div>\n",
       "<style scoped>\n",
       "    .dataframe tbody tr th:only-of-type {\n",
       "        vertical-align: middle;\n",
       "    }\n",
       "\n",
       "    .dataframe tbody tr th {\n",
       "        vertical-align: top;\n",
       "    }\n",
       "\n",
       "    .dataframe thead th {\n",
       "        text-align: right;\n",
       "    }\n",
       "</style>\n",
       "<table border=\"1\" class=\"dataframe\">\n",
       "  <thead>\n",
       "    <tr style=\"text-align: right;\">\n",
       "      <th></th>\n",
       "      <th>Product</th>\n",
       "      <th>Region</th>\n",
       "      <th>Price</th>\n",
       "      <th>Units Sold</th>\n",
       "      <th>Sale Date</th>\n",
       "    </tr>\n",
       "  </thead>\n",
       "  <tbody>\n",
       "    <tr>\n",
       "      <th>0</th>\n",
       "      <td>NaN</td>\n",
       "      <td>Region_1</td>\n",
       "      <td>72.87</td>\n",
       "      <td>10.0</td>\n",
       "      <td>2022-01-01</td>\n",
       "    </tr>\n",
       "    <tr>\n",
       "      <th>1</th>\n",
       "      <td>Product_40</td>\n",
       "      <td>Region_2</td>\n",
       "      <td>46.19</td>\n",
       "      <td>10.0</td>\n",
       "      <td>2022-01-02</td>\n",
       "    </tr>\n",
       "    <tr>\n",
       "      <th>2</th>\n",
       "      <td>Product_1</td>\n",
       "      <td>Region_5</td>\n",
       "      <td>NaN</td>\n",
       "      <td>4.0</td>\n",
       "      <td>2022-01-03</td>\n",
       "    </tr>\n",
       "    <tr>\n",
       "      <th>3</th>\n",
       "      <td>Product_6</td>\n",
       "      <td>Region_8</td>\n",
       "      <td>143.47</td>\n",
       "      <td>8.0</td>\n",
       "      <td>2022-01-04</td>\n",
       "    </tr>\n",
       "    <tr>\n",
       "      <th>4</th>\n",
       "      <td>Product_44</td>\n",
       "      <td>Region_4</td>\n",
       "      <td>122.54</td>\n",
       "      <td>10.0</td>\n",
       "      <td>2022-01-05</td>\n",
       "    </tr>\n",
       "  </tbody>\n",
       "</table>\n",
       "</div>"
      ],
      "text/plain": [
       "      Product    Region   Price  Units Sold   Sale Date\n",
       "0         NaN  Region_1   72.87        10.0  2022-01-01\n",
       "1  Product_40  Region_2   46.19        10.0  2022-01-02\n",
       "2   Product_1  Region_5     NaN         4.0  2022-01-03\n",
       "3   Product_6  Region_8  143.47         8.0  2022-01-04\n",
       "4  Product_44  Region_4  122.54        10.0  2022-01-05"
      ]
     },
     "execution_count": 3,
     "metadata": {},
     "output_type": "execute_result"
    }
   ],
   "source": [
    "df.head()"
   ]
  },
  {
   "attachments": {},
   "cell_type": "markdown",
   "metadata": {},
   "source": [
    "Now let's get a summary of the dataset structure"
   ]
  },
  {
   "cell_type": "code",
   "execution_count": 4,
   "metadata": {},
   "outputs": [
    {
     "name": "stdout",
     "output_type": "stream",
     "text": [
      "<class 'pandas.core.frame.DataFrame'>\n",
      "RangeIndex: 1050 entries, 0 to 1049\n",
      "Data columns (total 5 columns):\n",
      " #   Column      Non-Null Count  Dtype  \n",
      "---  ------      --------------  -----  \n",
      " 0   Product     947 non-null    object \n",
      " 1   Region      942 non-null    object \n",
      " 2   Price       945 non-null    float64\n",
      " 3   Units Sold  943 non-null    float64\n",
      " 4   Sale Date   1050 non-null   object \n",
      "dtypes: float64(2), object(3)\n",
      "memory usage: 41.1+ KB\n"
     ]
    }
   ],
   "source": [
    "df.info()    "
   ]
  },
  {
   "attachments": {},
   "cell_type": "markdown",
   "metadata": {},
   "source": [
    "By taking a look at the summary of the dataset we can see that there are a few missing values for all of the columns except the \"Sale Date\" column. This means that we will have to clean this data and decide if we want to impute and/or eliminate some data.\n",
    "\n",
    "I am not going to impute the categorical values \"Product\" and \"Region\" because if I set all the null values of those columns to the mode of the category that may cause one region or product to seem more dominant than it really is. Instead I will drop the rows that have null values for 'Product' and 'Region'.  "
   ]
  },
  {
   "cell_type": "code",
   "execution_count": 5,
   "metadata": {},
   "outputs": [],
   "source": [
    "df_drop_nulls = df.dropna(subset=['Product', 'Region'])"
   ]
  },
  {
   "cell_type": "code",
   "execution_count": 6,
   "metadata": {},
   "outputs": [
    {
     "name": "stdout",
     "output_type": "stream",
     "text": [
      "<class 'pandas.core.frame.DataFrame'>\n",
      "Index: 851 entries, 1 to 1048\n",
      "Data columns (total 5 columns):\n",
      " #   Column      Non-Null Count  Dtype  \n",
      "---  ------      --------------  -----  \n",
      " 0   Product     851 non-null    object \n",
      " 1   Region      851 non-null    object \n",
      " 2   Price       766 non-null    float64\n",
      " 3   Units Sold  762 non-null    float64\n",
      " 4   Sale Date   851 non-null    object \n",
      "dtypes: float64(2), object(3)\n",
      "memory usage: 39.9+ KB\n"
     ]
    }
   ],
   "source": [
    "df_drop_nulls.info() "
   ]
  },
  {
   "attachments": {},
   "cell_type": "markdown",
   "metadata": {},
   "source": [
    "We can get some descriptive statistics as well"
   ]
  },
  {
   "cell_type": "code",
   "execution_count": 7,
   "metadata": {},
   "outputs": [
    {
     "data": {
      "text/html": [
       "<div>\n",
       "<style scoped>\n",
       "    .dataframe tbody tr th:only-of-type {\n",
       "        vertical-align: middle;\n",
       "    }\n",
       "\n",
       "    .dataframe tbody tr th {\n",
       "        vertical-align: top;\n",
       "    }\n",
       "\n",
       "    .dataframe thead th {\n",
       "        text-align: right;\n",
       "    }\n",
       "</style>\n",
       "<table border=\"1\" class=\"dataframe\">\n",
       "  <thead>\n",
       "    <tr style=\"text-align: right;\">\n",
       "      <th></th>\n",
       "      <th>Product</th>\n",
       "      <th>Region</th>\n",
       "      <th>Price</th>\n",
       "      <th>Units Sold</th>\n",
       "      <th>Sale Date</th>\n",
       "    </tr>\n",
       "  </thead>\n",
       "  <tbody>\n",
       "    <tr>\n",
       "      <th>count</th>\n",
       "      <td>851</td>\n",
       "      <td>851</td>\n",
       "      <td>766.000000</td>\n",
       "      <td>762.000000</td>\n",
       "      <td>851</td>\n",
       "    </tr>\n",
       "    <tr>\n",
       "      <th>unique</th>\n",
       "      <td>50</td>\n",
       "      <td>10</td>\n",
       "      <td>NaN</td>\n",
       "      <td>NaN</td>\n",
       "      <td>810</td>\n",
       "    </tr>\n",
       "    <tr>\n",
       "      <th>top</th>\n",
       "      <td>Product_4</td>\n",
       "      <td>Region_5</td>\n",
       "      <td>NaN</td>\n",
       "      <td>NaN</td>\n",
       "      <td>2022-01-02</td>\n",
       "    </tr>\n",
       "    <tr>\n",
       "      <th>freq</th>\n",
       "      <td>28</td>\n",
       "      <td>100</td>\n",
       "      <td>NaN</td>\n",
       "      <td>NaN</td>\n",
       "      <td>2</td>\n",
       "    </tr>\n",
       "    <tr>\n",
       "      <th>mean</th>\n",
       "      <td>NaN</td>\n",
       "      <td>NaN</td>\n",
       "      <td>105.630927</td>\n",
       "      <td>10.258530</td>\n",
       "      <td>NaN</td>\n",
       "    </tr>\n",
       "    <tr>\n",
       "      <th>std</th>\n",
       "      <td>NaN</td>\n",
       "      <td>NaN</td>\n",
       "      <td>153.981617</td>\n",
       "      <td>3.294177</td>\n",
       "      <td>NaN</td>\n",
       "    </tr>\n",
       "    <tr>\n",
       "      <th>min</th>\n",
       "      <td>NaN</td>\n",
       "      <td>NaN</td>\n",
       "      <td>0.190000</td>\n",
       "      <td>2.000000</td>\n",
       "      <td>NaN</td>\n",
       "    </tr>\n",
       "    <tr>\n",
       "      <th>25%</th>\n",
       "      <td>NaN</td>\n",
       "      <td>NaN</td>\n",
       "      <td>28.290000</td>\n",
       "      <td>8.000000</td>\n",
       "      <td>NaN</td>\n",
       "    </tr>\n",
       "    <tr>\n",
       "      <th>50%</th>\n",
       "      <td>NaN</td>\n",
       "      <td>NaN</td>\n",
       "      <td>66.520000</td>\n",
       "      <td>10.000000</td>\n",
       "      <td>NaN</td>\n",
       "    </tr>\n",
       "    <tr>\n",
       "      <th>75%</th>\n",
       "      <td>NaN</td>\n",
       "      <td>NaN</td>\n",
       "      <td>136.390000</td>\n",
       "      <td>13.000000</td>\n",
       "      <td>NaN</td>\n",
       "    </tr>\n",
       "    <tr>\n",
       "      <th>max</th>\n",
       "      <td>NaN</td>\n",
       "      <td>NaN</td>\n",
       "      <td>2636.900000</td>\n",
       "      <td>22.000000</td>\n",
       "      <td>NaN</td>\n",
       "    </tr>\n",
       "  </tbody>\n",
       "</table>\n",
       "</div>"
      ],
      "text/plain": [
       "          Product    Region        Price  Units Sold   Sale Date\n",
       "count         851       851   766.000000  762.000000         851\n",
       "unique         50        10          NaN         NaN         810\n",
       "top     Product_4  Region_5          NaN         NaN  2022-01-02\n",
       "freq           28       100          NaN         NaN           2\n",
       "mean          NaN       NaN   105.630927   10.258530         NaN\n",
       "std           NaN       NaN   153.981617    3.294177         NaN\n",
       "min           NaN       NaN     0.190000    2.000000         NaN\n",
       "25%           NaN       NaN    28.290000    8.000000         NaN\n",
       "50%           NaN       NaN    66.520000   10.000000         NaN\n",
       "75%           NaN       NaN   136.390000   13.000000         NaN\n",
       "max           NaN       NaN  2636.900000   22.000000         NaN"
      ]
     },
     "execution_count": 7,
     "metadata": {},
     "output_type": "execute_result"
    }
   ],
   "source": [
    "df_drop_nulls.describe(include='all')"
   ]
  },
  {
   "attachments": {},
   "cell_type": "markdown",
   "metadata": {},
   "source": [
    "By observing our descriptive statistics:\n",
    "- We can see that the number of units sold seems to be in a reasonable range from 2 to 22.\n",
    "- We can see also that there is a large range in prices, as the range is from $0.19 to $2636.9. This could either mean that there are some products that are very expensive and some that are very cheap OR this could mean that we have outliers that are possibly due to some error.\n",
    "\n",
    "Let's have a look at all the products and their price info to see if there are any products that are actually generally priced very high or low."
   ]
  },
  {
   "cell_type": "code",
   "execution_count": 8,
   "metadata": {},
   "outputs": [
    {
     "data": {
      "text/html": [
       "<div>\n",
       "<style scoped>\n",
       "    .dataframe tbody tr th:only-of-type {\n",
       "        vertical-align: middle;\n",
       "    }\n",
       "\n",
       "    .dataframe tbody tr th {\n",
       "        vertical-align: top;\n",
       "    }\n",
       "\n",
       "    .dataframe thead th {\n",
       "        text-align: right;\n",
       "    }\n",
       "</style>\n",
       "<table border=\"1\" class=\"dataframe\">\n",
       "  <thead>\n",
       "    <tr style=\"text-align: right;\">\n",
       "      <th></th>\n",
       "      <th>count</th>\n",
       "      <th>mean</th>\n",
       "      <th>std</th>\n",
       "      <th>min</th>\n",
       "      <th>25%</th>\n",
       "      <th>50%</th>\n",
       "      <th>75%</th>\n",
       "      <th>max</th>\n",
       "    </tr>\n",
       "    <tr>\n",
       "      <th>Product</th>\n",
       "      <th></th>\n",
       "      <th></th>\n",
       "      <th></th>\n",
       "      <th></th>\n",
       "      <th></th>\n",
       "      <th></th>\n",
       "      <th></th>\n",
       "      <th></th>\n",
       "    </tr>\n",
       "  </thead>\n",
       "  <tbody>\n",
       "    <tr>\n",
       "      <th>Product_1</th>\n",
       "      <td>17.0</td>\n",
       "      <td>98.842941</td>\n",
       "      <td>115.123107</td>\n",
       "      <td>3.40</td>\n",
       "      <td>42.7400</td>\n",
       "      <td>72.550</td>\n",
       "      <td>100.2300</td>\n",
       "      <td>441.99</td>\n",
       "    </tr>\n",
       "    <tr>\n",
       "      <th>Product_10</th>\n",
       "      <td>16.0</td>\n",
       "      <td>103.243125</td>\n",
       "      <td>76.169202</td>\n",
       "      <td>3.63</td>\n",
       "      <td>52.9350</td>\n",
       "      <td>94.755</td>\n",
       "      <td>123.8450</td>\n",
       "      <td>258.01</td>\n",
       "    </tr>\n",
       "    <tr>\n",
       "      <th>Product_11</th>\n",
       "      <td>11.0</td>\n",
       "      <td>125.675455</td>\n",
       "      <td>101.797424</td>\n",
       "      <td>21.70</td>\n",
       "      <td>60.5050</td>\n",
       "      <td>85.430</td>\n",
       "      <td>154.5450</td>\n",
       "      <td>333.79</td>\n",
       "    </tr>\n",
       "    <tr>\n",
       "      <th>Product_12</th>\n",
       "      <td>13.0</td>\n",
       "      <td>81.461538</td>\n",
       "      <td>66.493280</td>\n",
       "      <td>2.37</td>\n",
       "      <td>30.6700</td>\n",
       "      <td>82.690</td>\n",
       "      <td>109.9100</td>\n",
       "      <td>207.17</td>\n",
       "    </tr>\n",
       "    <tr>\n",
       "      <th>Product_13</th>\n",
       "      <td>17.0</td>\n",
       "      <td>88.629412</td>\n",
       "      <td>85.923571</td>\n",
       "      <td>12.86</td>\n",
       "      <td>18.2100</td>\n",
       "      <td>54.910</td>\n",
       "      <td>145.8400</td>\n",
       "      <td>274.59</td>\n",
       "    </tr>\n",
       "    <tr>\n",
       "      <th>Product_14</th>\n",
       "      <td>9.0</td>\n",
       "      <td>105.698889</td>\n",
       "      <td>144.897940</td>\n",
       "      <td>10.35</td>\n",
       "      <td>18.3700</td>\n",
       "      <td>55.650</td>\n",
       "      <td>104.8100</td>\n",
       "      <td>469.65</td>\n",
       "    </tr>\n",
       "    <tr>\n",
       "      <th>Product_15</th>\n",
       "      <td>19.0</td>\n",
       "      <td>89.121053</td>\n",
       "      <td>102.348294</td>\n",
       "      <td>5.71</td>\n",
       "      <td>24.2300</td>\n",
       "      <td>39.720</td>\n",
       "      <td>140.4600</td>\n",
       "      <td>409.83</td>\n",
       "    </tr>\n",
       "    <tr>\n",
       "      <th>Product_16</th>\n",
       "      <td>12.0</td>\n",
       "      <td>78.740833</td>\n",
       "      <td>108.664034</td>\n",
       "      <td>4.52</td>\n",
       "      <td>11.0675</td>\n",
       "      <td>46.760</td>\n",
       "      <td>96.6650</td>\n",
       "      <td>395.76</td>\n",
       "    </tr>\n",
       "    <tr>\n",
       "      <th>Product_17</th>\n",
       "      <td>17.0</td>\n",
       "      <td>119.851765</td>\n",
       "      <td>74.297447</td>\n",
       "      <td>5.39</td>\n",
       "      <td>58.6500</td>\n",
       "      <td>120.080</td>\n",
       "      <td>158.5900</td>\n",
       "      <td>248.85</td>\n",
       "    </tr>\n",
       "    <tr>\n",
       "      <th>Product_18</th>\n",
       "      <td>9.0</td>\n",
       "      <td>124.147778</td>\n",
       "      <td>123.934808</td>\n",
       "      <td>16.30</td>\n",
       "      <td>20.9500</td>\n",
       "      <td>106.030</td>\n",
       "      <td>147.1400</td>\n",
       "      <td>417.05</td>\n",
       "    </tr>\n",
       "    <tr>\n",
       "      <th>Product_19</th>\n",
       "      <td>16.0</td>\n",
       "      <td>134.286875</td>\n",
       "      <td>80.350581</td>\n",
       "      <td>23.98</td>\n",
       "      <td>81.4050</td>\n",
       "      <td>119.520</td>\n",
       "      <td>193.7550</td>\n",
       "      <td>308.76</td>\n",
       "    </tr>\n",
       "    <tr>\n",
       "      <th>Product_2</th>\n",
       "      <td>13.0</td>\n",
       "      <td>59.749231</td>\n",
       "      <td>57.667488</td>\n",
       "      <td>8.80</td>\n",
       "      <td>29.8500</td>\n",
       "      <td>41.140</td>\n",
       "      <td>51.4200</td>\n",
       "      <td>211.85</td>\n",
       "    </tr>\n",
       "    <tr>\n",
       "      <th>Product_20</th>\n",
       "      <td>15.0</td>\n",
       "      <td>110.592000</td>\n",
       "      <td>124.964054</td>\n",
       "      <td>9.09</td>\n",
       "      <td>21.6200</td>\n",
       "      <td>39.860</td>\n",
       "      <td>171.7950</td>\n",
       "      <td>355.43</td>\n",
       "    </tr>\n",
       "    <tr>\n",
       "      <th>Product_21</th>\n",
       "      <td>13.0</td>\n",
       "      <td>118.485385</td>\n",
       "      <td>134.937998</td>\n",
       "      <td>0.19</td>\n",
       "      <td>19.4100</td>\n",
       "      <td>68.950</td>\n",
       "      <td>141.1500</td>\n",
       "      <td>489.40</td>\n",
       "    </tr>\n",
       "    <tr>\n",
       "      <th>Product_22</th>\n",
       "      <td>15.0</td>\n",
       "      <td>123.993333</td>\n",
       "      <td>126.556898</td>\n",
       "      <td>7.59</td>\n",
       "      <td>37.3450</td>\n",
       "      <td>58.480</td>\n",
       "      <td>166.5900</td>\n",
       "      <td>361.41</td>\n",
       "    </tr>\n",
       "    <tr>\n",
       "      <th>Product_23</th>\n",
       "      <td>17.0</td>\n",
       "      <td>132.082353</td>\n",
       "      <td>98.858773</td>\n",
       "      <td>19.33</td>\n",
       "      <td>35.8000</td>\n",
       "      <td>102.150</td>\n",
       "      <td>191.5700</td>\n",
       "      <td>310.98</td>\n",
       "    </tr>\n",
       "    <tr>\n",
       "      <th>Product_24</th>\n",
       "      <td>23.0</td>\n",
       "      <td>59.925652</td>\n",
       "      <td>50.655690</td>\n",
       "      <td>0.25</td>\n",
       "      <td>26.1750</td>\n",
       "      <td>48.880</td>\n",
       "      <td>70.2750</td>\n",
       "      <td>184.03</td>\n",
       "    </tr>\n",
       "    <tr>\n",
       "      <th>Product_25</th>\n",
       "      <td>12.0</td>\n",
       "      <td>81.399167</td>\n",
       "      <td>86.505920</td>\n",
       "      <td>1.96</td>\n",
       "      <td>9.0425</td>\n",
       "      <td>53.970</td>\n",
       "      <td>111.0050</td>\n",
       "      <td>255.73</td>\n",
       "    </tr>\n",
       "    <tr>\n",
       "      <th>Product_26</th>\n",
       "      <td>15.0</td>\n",
       "      <td>85.655333</td>\n",
       "      <td>99.732910</td>\n",
       "      <td>8.76</td>\n",
       "      <td>28.5850</td>\n",
       "      <td>46.090</td>\n",
       "      <td>104.5050</td>\n",
       "      <td>389.50</td>\n",
       "    </tr>\n",
       "    <tr>\n",
       "      <th>Product_27</th>\n",
       "      <td>21.0</td>\n",
       "      <td>193.255238</td>\n",
       "      <td>391.650662</td>\n",
       "      <td>1.96</td>\n",
       "      <td>24.0900</td>\n",
       "      <td>59.150</td>\n",
       "      <td>160.3400</td>\n",
       "      <td>1793.90</td>\n",
       "    </tr>\n",
       "    <tr>\n",
       "      <th>Product_28</th>\n",
       "      <td>14.0</td>\n",
       "      <td>88.760714</td>\n",
       "      <td>87.169146</td>\n",
       "      <td>4.20</td>\n",
       "      <td>24.0275</td>\n",
       "      <td>64.345</td>\n",
       "      <td>125.2900</td>\n",
       "      <td>268.56</td>\n",
       "    </tr>\n",
       "    <tr>\n",
       "      <th>Product_29</th>\n",
       "      <td>12.0</td>\n",
       "      <td>85.430000</td>\n",
       "      <td>59.330776</td>\n",
       "      <td>10.39</td>\n",
       "      <td>43.9350</td>\n",
       "      <td>65.570</td>\n",
       "      <td>125.4850</td>\n",
       "      <td>198.02</td>\n",
       "    </tr>\n",
       "    <tr>\n",
       "      <th>Product_3</th>\n",
       "      <td>18.0</td>\n",
       "      <td>65.593889</td>\n",
       "      <td>71.414068</td>\n",
       "      <td>7.57</td>\n",
       "      <td>17.0000</td>\n",
       "      <td>37.435</td>\n",
       "      <td>102.9775</td>\n",
       "      <td>290.10</td>\n",
       "    </tr>\n",
       "    <tr>\n",
       "      <th>Product_30</th>\n",
       "      <td>14.0</td>\n",
       "      <td>88.441429</td>\n",
       "      <td>102.038639</td>\n",
       "      <td>3.61</td>\n",
       "      <td>24.1450</td>\n",
       "      <td>60.135</td>\n",
       "      <td>88.3200</td>\n",
       "      <td>321.41</td>\n",
       "    </tr>\n",
       "    <tr>\n",
       "      <th>Product_31</th>\n",
       "      <td>15.0</td>\n",
       "      <td>100.030000</td>\n",
       "      <td>110.359726</td>\n",
       "      <td>1.60</td>\n",
       "      <td>24.3050</td>\n",
       "      <td>48.330</td>\n",
       "      <td>159.3200</td>\n",
       "      <td>295.08</td>\n",
       "    </tr>\n",
       "    <tr>\n",
       "      <th>Product_32</th>\n",
       "      <td>10.0</td>\n",
       "      <td>74.437000</td>\n",
       "      <td>69.775829</td>\n",
       "      <td>1.66</td>\n",
       "      <td>26.4850</td>\n",
       "      <td>50.895</td>\n",
       "      <td>120.5650</td>\n",
       "      <td>191.17</td>\n",
       "    </tr>\n",
       "    <tr>\n",
       "      <th>Product_33</th>\n",
       "      <td>14.0</td>\n",
       "      <td>103.919286</td>\n",
       "      <td>86.627923</td>\n",
       "      <td>15.30</td>\n",
       "      <td>52.1525</td>\n",
       "      <td>69.925</td>\n",
       "      <td>123.5250</td>\n",
       "      <td>296.76</td>\n",
       "    </tr>\n",
       "    <tr>\n",
       "      <th>Product_34</th>\n",
       "      <td>17.0</td>\n",
       "      <td>253.598235</td>\n",
       "      <td>618.111915</td>\n",
       "      <td>20.51</td>\n",
       "      <td>53.7500</td>\n",
       "      <td>124.300</td>\n",
       "      <td>165.0900</td>\n",
       "      <td>2636.90</td>\n",
       "    </tr>\n",
       "    <tr>\n",
       "      <th>Product_35</th>\n",
       "      <td>11.0</td>\n",
       "      <td>47.802727</td>\n",
       "      <td>20.363126</td>\n",
       "      <td>17.20</td>\n",
       "      <td>34.9750</td>\n",
       "      <td>47.160</td>\n",
       "      <td>61.4100</td>\n",
       "      <td>86.42</td>\n",
       "    </tr>\n",
       "    <tr>\n",
       "      <th>Product_36</th>\n",
       "      <td>16.0</td>\n",
       "      <td>90.751250</td>\n",
       "      <td>91.798035</td>\n",
       "      <td>0.27</td>\n",
       "      <td>20.3600</td>\n",
       "      <td>69.715</td>\n",
       "      <td>112.2875</td>\n",
       "      <td>315.60</td>\n",
       "    </tr>\n",
       "    <tr>\n",
       "      <th>Product_37</th>\n",
       "      <td>17.0</td>\n",
       "      <td>105.664706</td>\n",
       "      <td>125.155765</td>\n",
       "      <td>4.31</td>\n",
       "      <td>23.3500</td>\n",
       "      <td>39.440</td>\n",
       "      <td>145.1000</td>\n",
       "      <td>366.64</td>\n",
       "    </tr>\n",
       "    <tr>\n",
       "      <th>Product_38</th>\n",
       "      <td>15.0</td>\n",
       "      <td>103.076000</td>\n",
       "      <td>66.513177</td>\n",
       "      <td>14.26</td>\n",
       "      <td>44.8300</td>\n",
       "      <td>86.840</td>\n",
       "      <td>135.0000</td>\n",
       "      <td>230.62</td>\n",
       "    </tr>\n",
       "    <tr>\n",
       "      <th>Product_39</th>\n",
       "      <td>10.0</td>\n",
       "      <td>125.151000</td>\n",
       "      <td>100.607021</td>\n",
       "      <td>9.31</td>\n",
       "      <td>43.4700</td>\n",
       "      <td>98.280</td>\n",
       "      <td>234.1900</td>\n",
       "      <td>248.75</td>\n",
       "    </tr>\n",
       "    <tr>\n",
       "      <th>Product_4</th>\n",
       "      <td>27.0</td>\n",
       "      <td>89.453704</td>\n",
       "      <td>74.632516</td>\n",
       "      <td>6.02</td>\n",
       "      <td>22.7650</td>\n",
       "      <td>58.770</td>\n",
       "      <td>140.2600</td>\n",
       "      <td>253.12</td>\n",
       "    </tr>\n",
       "    <tr>\n",
       "      <th>Product_40</th>\n",
       "      <td>22.0</td>\n",
       "      <td>103.158636</td>\n",
       "      <td>110.128955</td>\n",
       "      <td>2.91</td>\n",
       "      <td>34.0125</td>\n",
       "      <td>57.660</td>\n",
       "      <td>120.8150</td>\n",
       "      <td>422.30</td>\n",
       "    </tr>\n",
       "    <tr>\n",
       "      <th>Product_41</th>\n",
       "      <td>11.0</td>\n",
       "      <td>70.522727</td>\n",
       "      <td>59.472020</td>\n",
       "      <td>13.16</td>\n",
       "      <td>20.7550</td>\n",
       "      <td>60.560</td>\n",
       "      <td>101.2550</td>\n",
       "      <td>204.58</td>\n",
       "    </tr>\n",
       "    <tr>\n",
       "      <th>Product_42</th>\n",
       "      <td>17.0</td>\n",
       "      <td>94.574118</td>\n",
       "      <td>76.476882</td>\n",
       "      <td>17.44</td>\n",
       "      <td>34.8300</td>\n",
       "      <td>75.390</td>\n",
       "      <td>164.0000</td>\n",
       "      <td>245.30</td>\n",
       "    </tr>\n",
       "    <tr>\n",
       "      <th>Product_43</th>\n",
       "      <td>23.0</td>\n",
       "      <td>78.112174</td>\n",
       "      <td>64.124226</td>\n",
       "      <td>0.27</td>\n",
       "      <td>39.3800</td>\n",
       "      <td>61.050</td>\n",
       "      <td>97.4050</td>\n",
       "      <td>269.17</td>\n",
       "    </tr>\n",
       "    <tr>\n",
       "      <th>Product_44</th>\n",
       "      <td>13.0</td>\n",
       "      <td>130.196154</td>\n",
       "      <td>145.660325</td>\n",
       "      <td>0.19</td>\n",
       "      <td>25.5100</td>\n",
       "      <td>83.330</td>\n",
       "      <td>122.5400</td>\n",
       "      <td>521.88</td>\n",
       "    </tr>\n",
       "    <tr>\n",
       "      <th>Product_45</th>\n",
       "      <td>13.0</td>\n",
       "      <td>99.223846</td>\n",
       "      <td>90.336801</td>\n",
       "      <td>6.20</td>\n",
       "      <td>30.2200</td>\n",
       "      <td>84.850</td>\n",
       "      <td>93.7400</td>\n",
       "      <td>289.70</td>\n",
       "    </tr>\n",
       "    <tr>\n",
       "      <th>Product_46</th>\n",
       "      <td>14.0</td>\n",
       "      <td>127.590714</td>\n",
       "      <td>127.118012</td>\n",
       "      <td>0.71</td>\n",
       "      <td>50.4425</td>\n",
       "      <td>93.705</td>\n",
       "      <td>134.3400</td>\n",
       "      <td>485.84</td>\n",
       "    </tr>\n",
       "    <tr>\n",
       "      <th>Product_47</th>\n",
       "      <td>8.0</td>\n",
       "      <td>70.930000</td>\n",
       "      <td>48.988812</td>\n",
       "      <td>13.46</td>\n",
       "      <td>28.6925</td>\n",
       "      <td>64.510</td>\n",
       "      <td>123.1650</td>\n",
       "      <td>125.51</td>\n",
       "    </tr>\n",
       "    <tr>\n",
       "      <th>Product_48</th>\n",
       "      <td>13.0</td>\n",
       "      <td>56.872308</td>\n",
       "      <td>59.013771</td>\n",
       "      <td>6.22</td>\n",
       "      <td>22.0000</td>\n",
       "      <td>51.110</td>\n",
       "      <td>70.4600</td>\n",
       "      <td>234.90</td>\n",
       "    </tr>\n",
       "    <tr>\n",
       "      <th>Product_49</th>\n",
       "      <td>20.0</td>\n",
       "      <td>169.012000</td>\n",
       "      <td>275.104167</td>\n",
       "      <td>14.87</td>\n",
       "      <td>48.3375</td>\n",
       "      <td>116.180</td>\n",
       "      <td>173.0975</td>\n",
       "      <td>1296.00</td>\n",
       "    </tr>\n",
       "    <tr>\n",
       "      <th>Product_5</th>\n",
       "      <td>12.0</td>\n",
       "      <td>79.711667</td>\n",
       "      <td>71.969974</td>\n",
       "      <td>2.06</td>\n",
       "      <td>18.8000</td>\n",
       "      <td>55.465</td>\n",
       "      <td>151.6000</td>\n",
       "      <td>211.13</td>\n",
       "    </tr>\n",
       "    <tr>\n",
       "      <th>Product_50</th>\n",
       "      <td>23.0</td>\n",
       "      <td>168.466522</td>\n",
       "      <td>157.163677</td>\n",
       "      <td>19.74</td>\n",
       "      <td>63.1300</td>\n",
       "      <td>141.530</td>\n",
       "      <td>212.8000</td>\n",
       "      <td>650.50</td>\n",
       "    </tr>\n",
       "    <tr>\n",
       "      <th>Product_6</th>\n",
       "      <td>12.0</td>\n",
       "      <td>103.915833</td>\n",
       "      <td>99.186168</td>\n",
       "      <td>22.76</td>\n",
       "      <td>32.3450</td>\n",
       "      <td>78.805</td>\n",
       "      <td>122.2375</td>\n",
       "      <td>376.40</td>\n",
       "    </tr>\n",
       "    <tr>\n",
       "      <th>Product_7</th>\n",
       "      <td>16.0</td>\n",
       "      <td>118.983750</td>\n",
       "      <td>139.676506</td>\n",
       "      <td>5.79</td>\n",
       "      <td>33.7750</td>\n",
       "      <td>65.340</td>\n",
       "      <td>129.9725</td>\n",
       "      <td>501.57</td>\n",
       "    </tr>\n",
       "    <tr>\n",
       "      <th>Product_8</th>\n",
       "      <td>22.0</td>\n",
       "      <td>88.737273</td>\n",
       "      <td>128.552346</td>\n",
       "      <td>0.81</td>\n",
       "      <td>27.2150</td>\n",
       "      <td>43.765</td>\n",
       "      <td>66.8875</td>\n",
       "      <td>492.33</td>\n",
       "    </tr>\n",
       "    <tr>\n",
       "      <th>Product_9</th>\n",
       "      <td>17.0</td>\n",
       "      <td>84.495294</td>\n",
       "      <td>93.768329</td>\n",
       "      <td>1.49</td>\n",
       "      <td>9.7100</td>\n",
       "      <td>44.340</td>\n",
       "      <td>113.0600</td>\n",
       "      <td>282.73</td>\n",
       "    </tr>\n",
       "  </tbody>\n",
       "</table>\n",
       "</div>"
      ],
      "text/plain": [
       "            count        mean         std    min      25%      50%       75%   \n",
       "Product                                                                        \n",
       "Product_1    17.0   98.842941  115.123107   3.40  42.7400   72.550  100.2300  \\\n",
       "Product_10   16.0  103.243125   76.169202   3.63  52.9350   94.755  123.8450   \n",
       "Product_11   11.0  125.675455  101.797424  21.70  60.5050   85.430  154.5450   \n",
       "Product_12   13.0   81.461538   66.493280   2.37  30.6700   82.690  109.9100   \n",
       "Product_13   17.0   88.629412   85.923571  12.86  18.2100   54.910  145.8400   \n",
       "Product_14    9.0  105.698889  144.897940  10.35  18.3700   55.650  104.8100   \n",
       "Product_15   19.0   89.121053  102.348294   5.71  24.2300   39.720  140.4600   \n",
       "Product_16   12.0   78.740833  108.664034   4.52  11.0675   46.760   96.6650   \n",
       "Product_17   17.0  119.851765   74.297447   5.39  58.6500  120.080  158.5900   \n",
       "Product_18    9.0  124.147778  123.934808  16.30  20.9500  106.030  147.1400   \n",
       "Product_19   16.0  134.286875   80.350581  23.98  81.4050  119.520  193.7550   \n",
       "Product_2    13.0   59.749231   57.667488   8.80  29.8500   41.140   51.4200   \n",
       "Product_20   15.0  110.592000  124.964054   9.09  21.6200   39.860  171.7950   \n",
       "Product_21   13.0  118.485385  134.937998   0.19  19.4100   68.950  141.1500   \n",
       "Product_22   15.0  123.993333  126.556898   7.59  37.3450   58.480  166.5900   \n",
       "Product_23   17.0  132.082353   98.858773  19.33  35.8000  102.150  191.5700   \n",
       "Product_24   23.0   59.925652   50.655690   0.25  26.1750   48.880   70.2750   \n",
       "Product_25   12.0   81.399167   86.505920   1.96   9.0425   53.970  111.0050   \n",
       "Product_26   15.0   85.655333   99.732910   8.76  28.5850   46.090  104.5050   \n",
       "Product_27   21.0  193.255238  391.650662   1.96  24.0900   59.150  160.3400   \n",
       "Product_28   14.0   88.760714   87.169146   4.20  24.0275   64.345  125.2900   \n",
       "Product_29   12.0   85.430000   59.330776  10.39  43.9350   65.570  125.4850   \n",
       "Product_3    18.0   65.593889   71.414068   7.57  17.0000   37.435  102.9775   \n",
       "Product_30   14.0   88.441429  102.038639   3.61  24.1450   60.135   88.3200   \n",
       "Product_31   15.0  100.030000  110.359726   1.60  24.3050   48.330  159.3200   \n",
       "Product_32   10.0   74.437000   69.775829   1.66  26.4850   50.895  120.5650   \n",
       "Product_33   14.0  103.919286   86.627923  15.30  52.1525   69.925  123.5250   \n",
       "Product_34   17.0  253.598235  618.111915  20.51  53.7500  124.300  165.0900   \n",
       "Product_35   11.0   47.802727   20.363126  17.20  34.9750   47.160   61.4100   \n",
       "Product_36   16.0   90.751250   91.798035   0.27  20.3600   69.715  112.2875   \n",
       "Product_37   17.0  105.664706  125.155765   4.31  23.3500   39.440  145.1000   \n",
       "Product_38   15.0  103.076000   66.513177  14.26  44.8300   86.840  135.0000   \n",
       "Product_39   10.0  125.151000  100.607021   9.31  43.4700   98.280  234.1900   \n",
       "Product_4    27.0   89.453704   74.632516   6.02  22.7650   58.770  140.2600   \n",
       "Product_40   22.0  103.158636  110.128955   2.91  34.0125   57.660  120.8150   \n",
       "Product_41   11.0   70.522727   59.472020  13.16  20.7550   60.560  101.2550   \n",
       "Product_42   17.0   94.574118   76.476882  17.44  34.8300   75.390  164.0000   \n",
       "Product_43   23.0   78.112174   64.124226   0.27  39.3800   61.050   97.4050   \n",
       "Product_44   13.0  130.196154  145.660325   0.19  25.5100   83.330  122.5400   \n",
       "Product_45   13.0   99.223846   90.336801   6.20  30.2200   84.850   93.7400   \n",
       "Product_46   14.0  127.590714  127.118012   0.71  50.4425   93.705  134.3400   \n",
       "Product_47    8.0   70.930000   48.988812  13.46  28.6925   64.510  123.1650   \n",
       "Product_48   13.0   56.872308   59.013771   6.22  22.0000   51.110   70.4600   \n",
       "Product_49   20.0  169.012000  275.104167  14.87  48.3375  116.180  173.0975   \n",
       "Product_5    12.0   79.711667   71.969974   2.06  18.8000   55.465  151.6000   \n",
       "Product_50   23.0  168.466522  157.163677  19.74  63.1300  141.530  212.8000   \n",
       "Product_6    12.0  103.915833   99.186168  22.76  32.3450   78.805  122.2375   \n",
       "Product_7    16.0  118.983750  139.676506   5.79  33.7750   65.340  129.9725   \n",
       "Product_8    22.0   88.737273  128.552346   0.81  27.2150   43.765   66.8875   \n",
       "Product_9    17.0   84.495294   93.768329   1.49   9.7100   44.340  113.0600   \n",
       "\n",
       "                max  \n",
       "Product              \n",
       "Product_1    441.99  \n",
       "Product_10   258.01  \n",
       "Product_11   333.79  \n",
       "Product_12   207.17  \n",
       "Product_13   274.59  \n",
       "Product_14   469.65  \n",
       "Product_15   409.83  \n",
       "Product_16   395.76  \n",
       "Product_17   248.85  \n",
       "Product_18   417.05  \n",
       "Product_19   308.76  \n",
       "Product_2    211.85  \n",
       "Product_20   355.43  \n",
       "Product_21   489.40  \n",
       "Product_22   361.41  \n",
       "Product_23   310.98  \n",
       "Product_24   184.03  \n",
       "Product_25   255.73  \n",
       "Product_26   389.50  \n",
       "Product_27  1793.90  \n",
       "Product_28   268.56  \n",
       "Product_29   198.02  \n",
       "Product_3    290.10  \n",
       "Product_30   321.41  \n",
       "Product_31   295.08  \n",
       "Product_32   191.17  \n",
       "Product_33   296.76  \n",
       "Product_34  2636.90  \n",
       "Product_35    86.42  \n",
       "Product_36   315.60  \n",
       "Product_37   366.64  \n",
       "Product_38   230.62  \n",
       "Product_39   248.75  \n",
       "Product_4    253.12  \n",
       "Product_40   422.30  \n",
       "Product_41   204.58  \n",
       "Product_42   245.30  \n",
       "Product_43   269.17  \n",
       "Product_44   521.88  \n",
       "Product_45   289.70  \n",
       "Product_46   485.84  \n",
       "Product_47   125.51  \n",
       "Product_48   234.90  \n",
       "Product_49  1296.00  \n",
       "Product_5    211.13  \n",
       "Product_50   650.50  \n",
       "Product_6    376.40  \n",
       "Product_7    501.57  \n",
       "Product_8    492.33  \n",
       "Product_9    282.73  "
      ]
     },
     "execution_count": 8,
     "metadata": {},
     "output_type": "execute_result"
    }
   ],
   "source": [
    "df_drop_nulls.groupby('Product')['Price'].describe()"
   ]
  },
  {
   "attachments": {},
   "cell_type": "markdown",
   "metadata": {},
   "source": [
    "By looking at the descriptive statistics of the prices for each product we can see that there aren't any products that have a mean price that is extremely high. Therfore we know that those extremely high prices are most likely errors.\n",
    "\n",
    "To get a faster understanding of the mean prices we can see how many products don't have a mean price that fall into the range of $45 to $150"
   ]
  },
  {
   "cell_type": "code",
   "execution_count": 9,
   "metadata": {},
   "outputs": [
    {
     "name": "stdout",
     "output_type": "stream",
     "text": [
      "Product\n",
      "Product_27    193.255238\n",
      "Product_34    253.598235\n",
      "Product_49    169.012000\n",
      "Product_50    168.466522\n",
      "Name: Price, dtype: float64\n"
     ]
    }
   ],
   "source": [
    "mean_product_price = df_drop_nulls.groupby('Product')['Price'].mean()\n",
    "\n",
    "mean_price_out_of_range = mean_product_price[(mean_product_price >= 150) | (mean_product_price <= 45)]\n",
    "\n",
    "print(mean_price_out_of_range)"
   ]
  },
  {
   "attachments": {},
   "cell_type": "markdown",
   "metadata": {},
   "source": [
    "We can see that products 27, 34, 49, and 50 have mean prices that are outside of our specified range, this could be because there are outlier prices for these products that cause their mean to be higher than the others. Let's take a look."
   ]
  },
  {
   "attachments": {},
   "cell_type": "markdown",
   "metadata": {},
   "source": [
    "We can also plot the 'Price' and 'Units Sold' data to get a visual understanding"
   ]
  },
  {
   "cell_type": "code",
   "execution_count": 10,
   "metadata": {},
   "outputs": [
    {
     "data": {
      "text/plain": [
       "array([[<Axes: title={'center': 'Price'}>,\n",
       "        <Axes: title={'center': 'Units Sold'}>]], dtype=object)"
      ]
     },
     "execution_count": 10,
     "metadata": {},
     "output_type": "execute_result"
    },
    {
     "data": {
      "image/png": "[encoded data removed]",
      "text/plain": [
       "<Figure size 640x480 with 2 Axes>"
      ]
     },
     "metadata": {},
     "output_type": "display_data"
    }
   ],
   "source": [
    "df_drop_nulls.hist()"
   ]
  },
  {
   "attachments": {},
   "cell_type": "markdown",
   "metadata": {},
   "source": [
    "We can notice that the \"Unit Sold\" data follows a normal distribution pattern. The \"Price\" distribution on the other hand has most of the data falling at the beginning of the x-axis and very little after that. Therefore I will remove the outliers from the price data."
   ]
  },
  {
   "attachments": {},
   "cell_type": "markdown",
   "metadata": {},
   "source": [
    "Let's take a look at how many product prices were on the extremly low end and high end of the price range. So we can look at the products that were above $650 and below $2"
   ]
  },
  {
   "cell_type": "code",
   "execution_count": 11,
   "metadata": {},
   "outputs": [
    {
     "data": {
      "text/html": [
       "<div>\n",
       "<style scoped>\n",
       "    .dataframe tbody tr th:only-of-type {\n",
       "        vertical-align: middle;\n",
       "    }\n",
       "\n",
       "    .dataframe tbody tr th {\n",
       "        vertical-align: top;\n",
       "    }\n",
       "\n",
       "    .dataframe thead th {\n",
       "        text-align: right;\n",
       "    }\n",
       "</style>\n",
       "<table border=\"1\" class=\"dataframe\">\n",
       "  <thead>\n",
       "    <tr style=\"text-align: right;\">\n",
       "      <th></th>\n",
       "      <th>Product</th>\n",
       "      <th>Region</th>\n",
       "      <th>Price</th>\n",
       "      <th>Units Sold</th>\n",
       "      <th>Sale Date</th>\n",
       "    </tr>\n",
       "  </thead>\n",
       "  <tbody>\n",
       "    <tr>\n",
       "      <th>269</th>\n",
       "      <td>Product_49</td>\n",
       "      <td>Region_8</td>\n",
       "      <td>1296.0</td>\n",
       "      <td>14.0</td>\n",
       "      <td>2022-09-27</td>\n",
       "    </tr>\n",
       "    <tr>\n",
       "      <th>407</th>\n",
       "      <td>Product_27</td>\n",
       "      <td>Region_7</td>\n",
       "      <td>1793.9</td>\n",
       "      <td>9.0</td>\n",
       "      <td>2023-02-12</td>\n",
       "    </tr>\n",
       "    <tr>\n",
       "      <th>421</th>\n",
       "      <td>Product_34</td>\n",
       "      <td>Region_2</td>\n",
       "      <td>2636.9</td>\n",
       "      <td>14.0</td>\n",
       "      <td>2023-02-26</td>\n",
       "    </tr>\n",
       "    <tr>\n",
       "      <th>745</th>\n",
       "      <td>Product_50</td>\n",
       "      <td>Region_10</td>\n",
       "      <td>650.5</td>\n",
       "      <td>6.0</td>\n",
       "      <td>2024-01-16</td>\n",
       "    </tr>\n",
       "  </tbody>\n",
       "</table>\n",
       "</div>"
      ],
      "text/plain": [
       "        Product     Region   Price  Units Sold   Sale Date\n",
       "269  Product_49   Region_8  1296.0        14.0  2022-09-27\n",
       "407  Product_27   Region_7  1793.9         9.0  2023-02-12\n",
       "421  Product_34   Region_2  2636.9        14.0  2023-02-26\n",
       "745  Product_50  Region_10   650.5         6.0  2024-01-16"
      ]
     },
     "execution_count": 11,
     "metadata": {},
     "output_type": "execute_result"
    }
   ],
   "source": [
    "df_drop_nulls[df_drop_nulls['Price']>650]"
   ]
  },
  {
   "cell_type": "code",
   "execution_count": 12,
   "metadata": {},
   "outputs": [
    {
     "data": {
      "text/html": [
       "<div>\n",
       "<style scoped>\n",
       "    .dataframe tbody tr th:only-of-type {\n",
       "        vertical-align: middle;\n",
       "    }\n",
       "\n",
       "    .dataframe tbody tr th {\n",
       "        vertical-align: top;\n",
       "    }\n",
       "\n",
       "    .dataframe thead th {\n",
       "        text-align: right;\n",
       "    }\n",
       "</style>\n",
       "<table border=\"1\" class=\"dataframe\">\n",
       "  <thead>\n",
       "    <tr style=\"text-align: right;\">\n",
       "      <th></th>\n",
       "      <th>Product</th>\n",
       "      <th>Region</th>\n",
       "      <th>Price</th>\n",
       "      <th>Units Sold</th>\n",
       "      <th>Sale Date</th>\n",
       "    </tr>\n",
       "  </thead>\n",
       "  <tbody>\n",
       "    <tr>\n",
       "      <th>6</th>\n",
       "      <td>Product_31</td>\n",
       "      <td>Region_10</td>\n",
       "      <td>1.60</td>\n",
       "      <td>11.0</td>\n",
       "      <td>2022-01-07</td>\n",
       "    </tr>\n",
       "    <tr>\n",
       "      <th>101</th>\n",
       "      <td>Product_32</td>\n",
       "      <td>Region_7</td>\n",
       "      <td>1.66</td>\n",
       "      <td>NaN</td>\n",
       "      <td>2022-04-12</td>\n",
       "    </tr>\n",
       "    <tr>\n",
       "      <th>115</th>\n",
       "      <td>Product_24</td>\n",
       "      <td>Region_9</td>\n",
       "      <td>0.25</td>\n",
       "      <td>7.0</td>\n",
       "      <td>2022-04-26</td>\n",
       "    </tr>\n",
       "    <tr>\n",
       "      <th>358</th>\n",
       "      <td>Product_46</td>\n",
       "      <td>Region_6</td>\n",
       "      <td>0.71</td>\n",
       "      <td>6.0</td>\n",
       "      <td>2022-12-25</td>\n",
       "    </tr>\n",
       "    <tr>\n",
       "      <th>414</th>\n",
       "      <td>Product_36</td>\n",
       "      <td>Region_9</td>\n",
       "      <td>0.27</td>\n",
       "      <td>11.0</td>\n",
       "      <td>2023-02-19</td>\n",
       "    </tr>\n",
       "    <tr>\n",
       "      <th>441</th>\n",
       "      <td>Product_44</td>\n",
       "      <td>Region_10</td>\n",
       "      <td>0.19</td>\n",
       "      <td>NaN</td>\n",
       "      <td>2023-03-18</td>\n",
       "    </tr>\n",
       "    <tr>\n",
       "      <th>497</th>\n",
       "      <td>Product_25</td>\n",
       "      <td>Region_9</td>\n",
       "      <td>1.96</td>\n",
       "      <td>13.0</td>\n",
       "      <td>2023-05-13</td>\n",
       "    </tr>\n",
       "    <tr>\n",
       "      <th>499</th>\n",
       "      <td>Product_21</td>\n",
       "      <td>Region_9</td>\n",
       "      <td>0.31</td>\n",
       "      <td>9.0</td>\n",
       "      <td>2023-05-15</td>\n",
       "    </tr>\n",
       "    <tr>\n",
       "      <th>634</th>\n",
       "      <td>Product_21</td>\n",
       "      <td>Region_7</td>\n",
       "      <td>0.19</td>\n",
       "      <td>12.0</td>\n",
       "      <td>2023-09-27</td>\n",
       "    </tr>\n",
       "    <tr>\n",
       "      <th>666</th>\n",
       "      <td>Product_9</td>\n",
       "      <td>Region_2</td>\n",
       "      <td>1.49</td>\n",
       "      <td>12.0</td>\n",
       "      <td>2023-10-29</td>\n",
       "    </tr>\n",
       "    <tr>\n",
       "      <th>791</th>\n",
       "      <td>Product_43</td>\n",
       "      <td>Region_5</td>\n",
       "      <td>0.27</td>\n",
       "      <td>13.0</td>\n",
       "      <td>2024-03-02</td>\n",
       "    </tr>\n",
       "    <tr>\n",
       "      <th>799</th>\n",
       "      <td>Product_27</td>\n",
       "      <td>Region_7</td>\n",
       "      <td>1.96</td>\n",
       "      <td>8.0</td>\n",
       "      <td>2024-03-10</td>\n",
       "    </tr>\n",
       "    <tr>\n",
       "      <th>867</th>\n",
       "      <td>Product_8</td>\n",
       "      <td>Region_9</td>\n",
       "      <td>0.81</td>\n",
       "      <td>6.0</td>\n",
       "      <td>2024-05-17</td>\n",
       "    </tr>\n",
       "    <tr>\n",
       "      <th>1002</th>\n",
       "      <td>Product_24</td>\n",
       "      <td>Region_9</td>\n",
       "      <td>0.25</td>\n",
       "      <td>7.0</td>\n",
       "      <td>2022-04-26</td>\n",
       "    </tr>\n",
       "    <tr>\n",
       "      <th>1048</th>\n",
       "      <td>Product_27</td>\n",
       "      <td>Region_7</td>\n",
       "      <td>1.96</td>\n",
       "      <td>8.0</td>\n",
       "      <td>2024-03-10</td>\n",
       "    </tr>\n",
       "  </tbody>\n",
       "</table>\n",
       "</div>"
      ],
      "text/plain": [
       "         Product     Region  Price  Units Sold   Sale Date\n",
       "6     Product_31  Region_10   1.60        11.0  2022-01-07\n",
       "101   Product_32   Region_7   1.66         NaN  2022-04-12\n",
       "115   Product_24   Region_9   0.25         7.0  2022-04-26\n",
       "358   Product_46   Region_6   0.71         6.0  2022-12-25\n",
       "414   Product_36   Region_9   0.27        11.0  2023-02-19\n",
       "441   Product_44  Region_10   0.19         NaN  2023-03-18\n",
       "497   Product_25   Region_9   1.96        13.0  2023-05-13\n",
       "499   Product_21   Region_9   0.31         9.0  2023-05-15\n",
       "634   Product_21   Region_7   0.19        12.0  2023-09-27\n",
       "666    Product_9   Region_2   1.49        12.0  2023-10-29\n",
       "791   Product_43   Region_5   0.27        13.0  2024-03-02\n",
       "799   Product_27   Region_7   1.96         8.0  2024-03-10\n",
       "867    Product_8   Region_9   0.81         6.0  2024-05-17\n",
       "1002  Product_24   Region_9   0.25         7.0  2022-04-26\n",
       "1048  Product_27   Region_7   1.96         8.0  2024-03-10"
      ]
     },
     "execution_count": 12,
     "metadata": {},
     "output_type": "execute_result"
    }
   ],
   "source": [
    "df_drop_nulls[df_drop_nulls['Price']<2]"
   ]
  },
  {
   "attachments": {},
   "cell_type": "markdown",
   "metadata": {},
   "source": [
    "From our analysis so far we can see that there are a significant number of products sold below $2 but very few sold over $650, therefore I will eliminate products that were priced over $650 as those prices are likely to be errors. We can even see that the 4 products that were priced over $650 (Product_49, Product_27, Product_34, and Product_50) are the same ones who's mean price didn't fall into the range of $45 to $150."
   ]
  },
  {
   "attachments": {},
   "cell_type": "markdown",
   "metadata": {},
   "source": [
    "We can get rid of the outliers but we can keep the rows where the \"Price\" is NaN as those values can be imputed."
   ]
  },
  {
   "cell_type": "code",
   "execution_count": 13,
   "metadata": {},
   "outputs": [],
   "source": [
    "df_noout = df_drop_nulls[(df_drop_nulls['Price']<650) | (pd.isnull(df_drop_nulls['Price']))]"
   ]
  },
  {
   "cell_type": "code",
   "execution_count": 14,
   "metadata": {},
   "outputs": [
    {
     "data": {
      "text/plain": [
       "array([[<Axes: title={'center': 'Price'}>,\n",
       "        <Axes: title={'center': 'Units Sold'}>]], dtype=object)"
      ]
     },
     "execution_count": 14,
     "metadata": {},
     "output_type": "execute_result"
    },
    {
     "data": {
      "image/png": "[encoded data removed]",
      "text/plain": [
       "<Figure size 640x480 with 2 Axes>"
      ]
     },
     "metadata": {},
     "output_type": "display_data"
    }
   ],
   "source": [
    "df_noout.hist()"
   ]
  },
  {
   "attachments": {},
   "cell_type": "markdown",
   "metadata": {},
   "source": [
    "Now we can look at the summary of our dataset with the outliers removed"
   ]
  },
  {
   "cell_type": "code",
   "execution_count": 15,
   "metadata": {},
   "outputs": [
    {
     "name": "stdout",
     "output_type": "stream",
     "text": [
      "<class 'pandas.core.frame.DataFrame'>\n",
      "Index: 847 entries, 1 to 1048\n",
      "Data columns (total 5 columns):\n",
      " #   Column      Non-Null Count  Dtype  \n",
      "---  ------      --------------  -----  \n",
      " 0   Product     847 non-null    object \n",
      " 1   Region      847 non-null    object \n",
      " 2   Price       762 non-null    float64\n",
      " 3   Units Sold  758 non-null    float64\n",
      " 4   Sale Date   847 non-null    object \n",
      "dtypes: float64(2), object(3)\n",
      "memory usage: 39.7+ KB\n"
     ]
    }
   ],
   "source": [
    "df_noout.info()"
   ]
  },
  {
   "cell_type": "code",
   "execution_count": 16,
   "metadata": {},
   "outputs": [
    {
     "data": {
      "text/html": [
       "<div>\n",
       "<style scoped>\n",
       "    .dataframe tbody tr th:only-of-type {\n",
       "        vertical-align: middle;\n",
       "    }\n",
       "\n",
       "    .dataframe tbody tr th {\n",
       "        vertical-align: top;\n",
       "    }\n",
       "\n",
       "    .dataframe thead th {\n",
       "        text-align: right;\n",
       "    }\n",
       "</style>\n",
       "<table border=\"1\" class=\"dataframe\">\n",
       "  <thead>\n",
       "    <tr style=\"text-align: right;\">\n",
       "      <th></th>\n",
       "      <th>Product</th>\n",
       "      <th>Region</th>\n",
       "      <th>Price</th>\n",
       "      <th>Units Sold</th>\n",
       "      <th>Sale Date</th>\n",
       "    </tr>\n",
       "  </thead>\n",
       "  <tbody>\n",
       "    <tr>\n",
       "      <th>2</th>\n",
       "      <td>Product_1</td>\n",
       "      <td>Region_5</td>\n",
       "      <td>NaN</td>\n",
       "      <td>4.0</td>\n",
       "      <td>2022-01-03</td>\n",
       "    </tr>\n",
       "    <tr>\n",
       "      <th>20</th>\n",
       "      <td>Product_6</td>\n",
       "      <td>Region_9</td>\n",
       "      <td>NaN</td>\n",
       "      <td>12.0</td>\n",
       "      <td>2022-01-21</td>\n",
       "    </tr>\n",
       "    <tr>\n",
       "      <th>23</th>\n",
       "      <td>Product_19</td>\n",
       "      <td>Region_4</td>\n",
       "      <td>NaN</td>\n",
       "      <td>11.0</td>\n",
       "      <td>2022-01-24</td>\n",
       "    </tr>\n",
       "    <tr>\n",
       "      <th>39</th>\n",
       "      <td>Product_20</td>\n",
       "      <td>Region_5</td>\n",
       "      <td>NaN</td>\n",
       "      <td>7.0</td>\n",
       "      <td>2022-02-09</td>\n",
       "    </tr>\n",
       "    <tr>\n",
       "      <th>40</th>\n",
       "      <td>Product_14</td>\n",
       "      <td>Region_9</td>\n",
       "      <td>NaN</td>\n",
       "      <td>7.0</td>\n",
       "      <td>2022-02-10</td>\n",
       "    </tr>\n",
       "    <tr>\n",
       "      <th>...</th>\n",
       "      <td>...</td>\n",
       "      <td>...</td>\n",
       "      <td>...</td>\n",
       "      <td>...</td>\n",
       "      <td>...</td>\n",
       "    </tr>\n",
       "    <tr>\n",
       "      <th>1005</th>\n",
       "      <td>Product_10</td>\n",
       "      <td>Region_1</td>\n",
       "      <td>NaN</td>\n",
       "      <td>14.0</td>\n",
       "      <td>2023-03-16</td>\n",
       "    </tr>\n",
       "    <tr>\n",
       "      <th>1009</th>\n",
       "      <td>Product_26</td>\n",
       "      <td>Region_3</td>\n",
       "      <td>NaN</td>\n",
       "      <td>6.0</td>\n",
       "      <td>2022-05-01</td>\n",
       "    </tr>\n",
       "    <tr>\n",
       "      <th>1029</th>\n",
       "      <td>Product_41</td>\n",
       "      <td>Region_8</td>\n",
       "      <td>NaN</td>\n",
       "      <td>12.0</td>\n",
       "      <td>2022-10-20</td>\n",
       "    </tr>\n",
       "    <tr>\n",
       "      <th>1032</th>\n",
       "      <td>Product_45</td>\n",
       "      <td>Region_5</td>\n",
       "      <td>NaN</td>\n",
       "      <td>12.0</td>\n",
       "      <td>2024-01-18</td>\n",
       "    </tr>\n",
       "    <tr>\n",
       "      <th>1033</th>\n",
       "      <td>Product_46</td>\n",
       "      <td>Region_4</td>\n",
       "      <td>NaN</td>\n",
       "      <td>NaN</td>\n",
       "      <td>2023-02-11</td>\n",
       "    </tr>\n",
       "  </tbody>\n",
       "</table>\n",
       "<p>85 rows × 5 columns</p>\n",
       "</div>"
      ],
      "text/plain": [
       "         Product    Region  Price  Units Sold   Sale Date\n",
       "2      Product_1  Region_5    NaN         4.0  2022-01-03\n",
       "20     Product_6  Region_9    NaN        12.0  2022-01-21\n",
       "23    Product_19  Region_4    NaN        11.0  2022-01-24\n",
       "39    Product_20  Region_5    NaN         7.0  2022-02-09\n",
       "40    Product_14  Region_9    NaN         7.0  2022-02-10\n",
       "...          ...       ...    ...         ...         ...\n",
       "1005  Product_10  Region_1    NaN        14.0  2023-03-16\n",
       "1009  Product_26  Region_3    NaN         6.0  2022-05-01\n",
       "1029  Product_41  Region_8    NaN        12.0  2022-10-20\n",
       "1032  Product_45  Region_5    NaN        12.0  2024-01-18\n",
       "1033  Product_46  Region_4    NaN         NaN  2023-02-11\n",
       "\n",
       "[85 rows x 5 columns]"
      ]
     },
     "execution_count": 16,
     "metadata": {},
     "output_type": "execute_result"
    }
   ],
   "source": [
    "rows_with_NaN_price = df_noout[df_noout['Price'].isnull()]\n",
    "rows_with_NaN_price"
   ]
  },
  {
   "attachments": {},
   "cell_type": "markdown",
   "metadata": {},
   "source": [
    "We can see that there are 85 missing prices. Before imputing the prices, I want to make sure that there isn't a particular region, product or sale date where there is a skewed number of missing prices."
   ]
  },
  {
   "cell_type": "code",
   "execution_count": 17,
   "metadata": {},
   "outputs": [
    {
     "data": {
      "text/plain": [
       "<Axes: xlabel='Region'>"
      ]
     },
     "execution_count": 17,
     "metadata": {},
     "output_type": "execute_result"
    },
    {
     "data": {
      "image/png": "[encoded data removed]",
      "text/plain": [
       "<Figure size 640x480 with 1 Axes>"
      ]
     },
     "metadata": {},
     "output_type": "display_data"
    }
   ],
   "source": [
    "null_price_counts = df_noout[df_noout['Price'].isnull()].groupby('Region').size()\n",
    "null_price_counts.plot(kind='bar')"
   ]
  },
  {
   "cell_type": "code",
   "execution_count": 18,
   "metadata": {},
   "outputs": [
    {
     "data": {
      "text/plain": [
       "<Axes: xlabel='Product'>"
      ]
     },
     "execution_count": 18,
     "metadata": {},
     "output_type": "execute_result"
    },
    {
     "data": {
      "image/png": "[encoded data removed]",
      "text/plain": [
       "<Figure size 640x480 with 1 Axes>"
      ]
     },
     "metadata": {},
     "output_type": "display_data"
    }
   ],
   "source": [
    "null_price_counts = df_noout[df_noout['Price'].isnull()].groupby('Product').size()\n",
    "null_price_counts.plot(kind='bar')"
   ]
  },
  {
   "cell_type": "code",
   "execution_count": 19,
   "metadata": {},
   "outputs": [
    {
     "data": {
      "text/plain": [
       "<Axes: xlabel='Sale Date'>"
      ]
     },
     "execution_count": 19,
     "metadata": {},
     "output_type": "execute_result"
    },
    {
     "data": {
      "image/png": "[encoded data removed]",
      "text/plain": [
       "<Figure size 2000x800 with 1 Axes>"
      ]
     },
     "metadata": {},
     "output_type": "display_data"
    }
   ],
   "source": [
    "null_price_counts = df_noout[df_noout['Price'].isnull()].groupby('Sale Date').size()\n",
    "null_price_counts.plot(kind='bar', figsize=(20, 8))"
   ]
  },
  {
   "attachments": {},
   "cell_type": "markdown",
   "metadata": {},
   "source": [
    "From the three graphs above we can see that no region had more than 12 missing prices, no product had more than 6 missing prices and no sale date had more than 2 missing prices. Therefore I believe that the missing prices aren't skewed in any way and it is safe for us to impute them.\n",
    "\n",
    "To impute them I will set the value of any missing price to the median price of that particular product."
   ]
  },
  {
   "cell_type": "code",
   "execution_count": 20,
   "metadata": {},
   "outputs": [
    {
     "name": "stdout",
     "output_type": "stream",
     "text": [
      "Product\n",
      "Product_1      72.550\n",
      "Product_10     94.755\n",
      "Product_11     85.430\n",
      "Product_12     82.690\n",
      "Product_13     54.910\n",
      "Product_14     55.650\n",
      "Product_15     39.720\n",
      "Product_16     46.760\n",
      "Product_17    120.080\n",
      "Product_18    106.030\n",
      "Product_19    119.520\n",
      "Product_2      41.140\n",
      "Product_20     39.860\n",
      "Product_21     68.950\n",
      "Product_22     58.480\n",
      "Product_23    102.150\n",
      "Product_24     48.880\n",
      "Product_25     53.970\n",
      "Product_26     46.090\n",
      "Product_27     51.715\n",
      "Product_28     64.345\n",
      "Product_29     65.570\n",
      "Product_3      37.435\n",
      "Product_30     60.135\n",
      "Product_31     48.330\n",
      "Product_32     50.895\n",
      "Product_33     69.925\n",
      "Product_34     97.260\n",
      "Product_35     47.160\n",
      "Product_36     69.715\n",
      "Product_37     39.440\n",
      "Product_38     86.840\n",
      "Product_39     98.280\n",
      "Product_4      58.770\n",
      "Product_40     57.660\n",
      "Product_41     60.560\n",
      "Product_42     75.390\n",
      "Product_43     61.050\n",
      "Product_44     83.330\n",
      "Product_45     84.850\n",
      "Product_46     93.705\n",
      "Product_47     64.510\n",
      "Product_48     51.110\n",
      "Product_49     95.960\n",
      "Product_5      55.465\n",
      "Product_50    125.820\n",
      "Product_6      78.805\n",
      "Product_7      65.340\n",
      "Product_8      43.765\n",
      "Product_9      44.340\n",
      "Name: Price, dtype: float64\n"
     ]
    }
   ],
   "source": [
    "median_price_per_prod = df_noout.groupby('Product')[\"Price\"].median()\n",
    "print(median_price_per_prod)"
   ]
  },
  {
   "cell_type": "code",
   "execution_count": 21,
   "metadata": {},
   "outputs": [
    {
     "name": "stderr",
     "output_type": "stream",
     "text": [
      "C:\\Users\\vivek\\AppData\\Local\\Temp\\ipykernel_35352\\254297025.py:7: SettingWithCopyWarning: \n",
      "A value is trying to be set on a copy of a slice from a DataFrame.\n",
      "Try using .loc[row_indexer,col_indexer] = value instead\n",
      "\n",
      "See the caveats in the documentation: https://pandas.pydata.org/pandas-docs/stable/user_guide/indexing.html#returning-a-view-versus-a-copy\n",
      "  df_noout['Price'] = df_noout.apply(nan_to_median, axis=1)\n"
     ]
    }
   ],
   "source": [
    "def nan_to_median(row):\n",
    "    if pd.isnull(row['Price']):\n",
    "        return median_price_per_prod[row['Product']]\n",
    "    else:\n",
    "        return row['Price']\n",
    "    \n",
    "df_noout['Price'] = df_noout.apply(nan_to_median, axis=1)"
   ]
  },
  {
   "cell_type": "code",
   "execution_count": 22,
   "metadata": {},
   "outputs": [
    {
     "name": "stdout",
     "output_type": "stream",
     "text": [
      "<class 'pandas.core.frame.DataFrame'>\n",
      "Index: 847 entries, 1 to 1048\n",
      "Data columns (total 5 columns):\n",
      " #   Column      Non-Null Count  Dtype  \n",
      "---  ------      --------------  -----  \n",
      " 0   Product     847 non-null    object \n",
      " 1   Region      847 non-null    object \n",
      " 2   Price       847 non-null    float64\n",
      " 3   Units Sold  758 non-null    float64\n",
      " 4   Sale Date   847 non-null    object \n",
      "dtypes: float64(2), object(3)\n",
      "memory usage: 39.7+ KB\n"
     ]
    }
   ],
   "source": [
    "df_noout.info()"
   ]
  },
  {
   "cell_type": "code",
   "execution_count": 23,
   "metadata": {},
   "outputs": [
    {
     "data": {
      "text/html": [
       "<div>\n",
       "<style scoped>\n",
       "    .dataframe tbody tr th:only-of-type {\n",
       "        vertical-align: middle;\n",
       "    }\n",
       "\n",
       "    .dataframe tbody tr th {\n",
       "        vertical-align: top;\n",
       "    }\n",
       "\n",
       "    .dataframe thead th {\n",
       "        text-align: right;\n",
       "    }\n",
       "</style>\n",
       "<table border=\"1\" class=\"dataframe\">\n",
       "  <thead>\n",
       "    <tr style=\"text-align: right;\">\n",
       "      <th></th>\n",
       "      <th>Product</th>\n",
       "      <th>Region</th>\n",
       "      <th>Price</th>\n",
       "      <th>Units Sold</th>\n",
       "      <th>Sale Date</th>\n",
       "    </tr>\n",
       "  </thead>\n",
       "  <tbody>\n",
       "    <tr>\n",
       "      <th>1</th>\n",
       "      <td>Product_40</td>\n",
       "      <td>Region_2</td>\n",
       "      <td>46.19</td>\n",
       "      <td>10.0</td>\n",
       "      <td>2022-01-02</td>\n",
       "    </tr>\n",
       "    <tr>\n",
       "      <th>2</th>\n",
       "      <td>Product_1</td>\n",
       "      <td>Region_5</td>\n",
       "      <td>72.55</td>\n",
       "      <td>4.0</td>\n",
       "      <td>2022-01-03</td>\n",
       "    </tr>\n",
       "    <tr>\n",
       "      <th>3</th>\n",
       "      <td>Product_6</td>\n",
       "      <td>Region_8</td>\n",
       "      <td>143.47</td>\n",
       "      <td>8.0</td>\n",
       "      <td>2022-01-04</td>\n",
       "    </tr>\n",
       "    <tr>\n",
       "      <th>4</th>\n",
       "      <td>Product_44</td>\n",
       "      <td>Region_4</td>\n",
       "      <td>122.54</td>\n",
       "      <td>10.0</td>\n",
       "      <td>2022-01-05</td>\n",
       "    </tr>\n",
       "    <tr>\n",
       "      <th>5</th>\n",
       "      <td>Product_21</td>\n",
       "      <td>Region_8</td>\n",
       "      <td>15.76</td>\n",
       "      <td>20.0</td>\n",
       "      <td>2022-01-06</td>\n",
       "    </tr>\n",
       "    <tr>\n",
       "      <th>6</th>\n",
       "      <td>Product_31</td>\n",
       "      <td>Region_10</td>\n",
       "      <td>1.60</td>\n",
       "      <td>11.0</td>\n",
       "      <td>2022-01-07</td>\n",
       "    </tr>\n",
       "    <tr>\n",
       "      <th>8</th>\n",
       "      <td>Product_20</td>\n",
       "      <td>Region_8</td>\n",
       "      <td>9.55</td>\n",
       "      <td>8.0</td>\n",
       "      <td>2022-01-09</td>\n",
       "    </tr>\n",
       "    <tr>\n",
       "      <th>9</th>\n",
       "      <td>Product_34</td>\n",
       "      <td>Region_1</td>\n",
       "      <td>58.88</td>\n",
       "      <td>NaN</td>\n",
       "      <td>2022-01-10</td>\n",
       "    </tr>\n",
       "    <tr>\n",
       "      <th>10</th>\n",
       "      <td>Product_40</td>\n",
       "      <td>Region_5</td>\n",
       "      <td>119.96</td>\n",
       "      <td>8.0</td>\n",
       "      <td>2022-01-11</td>\n",
       "    </tr>\n",
       "    <tr>\n",
       "      <th>11</th>\n",
       "      <td>Product_3</td>\n",
       "      <td>Region_7</td>\n",
       "      <td>110.99</td>\n",
       "      <td>7.0</td>\n",
       "      <td>2022-01-12</td>\n",
       "    </tr>\n",
       "    <tr>\n",
       "      <th>13</th>\n",
       "      <td>Product_35</td>\n",
       "      <td>Region_6</td>\n",
       "      <td>36.16</td>\n",
       "      <td>NaN</td>\n",
       "      <td>2022-01-14</td>\n",
       "    </tr>\n",
       "    <tr>\n",
       "      <th>14</th>\n",
       "      <td>Product_34</td>\n",
       "      <td>Region_4</td>\n",
       "      <td>20.51</td>\n",
       "      <td>6.0</td>\n",
       "      <td>2022-01-15</td>\n",
       "    </tr>\n",
       "    <tr>\n",
       "      <th>15</th>\n",
       "      <td>Product_50</td>\n",
       "      <td>Region_8</td>\n",
       "      <td>141.53</td>\n",
       "      <td>5.0</td>\n",
       "      <td>2022-01-16</td>\n",
       "    </tr>\n",
       "    <tr>\n",
       "      <th>16</th>\n",
       "      <td>Product_40</td>\n",
       "      <td>Region_6</td>\n",
       "      <td>121.10</td>\n",
       "      <td>8.0</td>\n",
       "      <td>2022-01-17</td>\n",
       "    </tr>\n",
       "    <tr>\n",
       "      <th>17</th>\n",
       "      <td>Product_4</td>\n",
       "      <td>Region_5</td>\n",
       "      <td>74.25</td>\n",
       "      <td>9.0</td>\n",
       "      <td>2022-01-18</td>\n",
       "    </tr>\n",
       "  </tbody>\n",
       "</table>\n",
       "</div>"
      ],
      "text/plain": [
       "       Product     Region   Price  Units Sold   Sale Date\n",
       "1   Product_40   Region_2   46.19        10.0  2022-01-02\n",
       "2    Product_1   Region_5   72.55         4.0  2022-01-03\n",
       "3    Product_6   Region_8  143.47         8.0  2022-01-04\n",
       "4   Product_44   Region_4  122.54        10.0  2022-01-05\n",
       "5   Product_21   Region_8   15.76        20.0  2022-01-06\n",
       "6   Product_31  Region_10    1.60        11.0  2022-01-07\n",
       "8   Product_20   Region_8    9.55         8.0  2022-01-09\n",
       "9   Product_34   Region_1   58.88         NaN  2022-01-10\n",
       "10  Product_40   Region_5  119.96         8.0  2022-01-11\n",
       "11   Product_3   Region_7  110.99         7.0  2022-01-12\n",
       "13  Product_35   Region_6   36.16         NaN  2022-01-14\n",
       "14  Product_34   Region_4   20.51         6.0  2022-01-15\n",
       "15  Product_50   Region_8  141.53         5.0  2022-01-16\n",
       "16  Product_40   Region_6  121.10         8.0  2022-01-17\n",
       "17   Product_4   Region_5   74.25         9.0  2022-01-18"
      ]
     },
     "execution_count": 23,
     "metadata": {},
     "output_type": "execute_result"
    }
   ],
   "source": [
    "df_noout.head(15)"
   ]
  },
  {
   "attachments": {},
   "cell_type": "markdown",
   "metadata": {},
   "source": [
    "We can also impute the missing 'Units Sold' values by filling the missing cells with the median 'Units Sold' value for the respecitve product."
   ]
  },
  {
   "cell_type": "code",
   "execution_count": 24,
   "metadata": {},
   "outputs": [
    {
     "name": "stdout",
     "output_type": "stream",
     "text": [
      "Product\n",
      "Product_1     11.0\n",
      "Product_10    12.0\n",
      "Product_11    12.0\n",
      "Product_12    10.0\n",
      "Product_13    10.0\n",
      "Product_14    10.5\n",
      "Product_15    11.0\n",
      "Product_16    11.0\n",
      "Product_17    11.0\n",
      "Product_18    12.5\n",
      "Product_19    11.0\n",
      "Product_2     10.0\n",
      "Product_20     9.0\n",
      "Product_21    11.0\n",
      "Product_22    11.0\n",
      "Product_23    10.0\n",
      "Product_24    11.0\n",
      "Product_25     8.0\n",
      "Product_26    10.0\n",
      "Product_27     8.0\n",
      "Product_28    11.0\n",
      "Product_29    11.0\n",
      "Product_3     10.0\n",
      "Product_30     9.0\n",
      "Product_31     9.0\n",
      "Product_32    12.0\n",
      "Product_33     9.0\n",
      "Product_34     9.0\n",
      "Product_35    10.0\n",
      "Product_36    10.0\n",
      "Product_37    10.0\n",
      "Product_38    10.0\n",
      "Product_39     9.0\n",
      "Product_4      9.0\n",
      "Product_40    10.0\n",
      "Product_41    11.0\n",
      "Product_42    10.0\n",
      "Product_43     9.0\n",
      "Product_44    10.0\n",
      "Product_45    11.0\n",
      "Product_46    10.0\n",
      "Product_47    10.0\n",
      "Product_48    10.0\n",
      "Product_49    10.0\n",
      "Product_5     10.0\n",
      "Product_50     8.0\n",
      "Product_6      9.0\n",
      "Product_7     10.5\n",
      "Product_8     12.0\n",
      "Product_9     10.0\n",
      "Name: Units Sold, dtype: float64\n"
     ]
    }
   ],
   "source": [
    "median_units_sold_per_prod = df_noout.groupby('Product')['Units Sold'].median()\n",
    "print(median_units_sold_per_prod)"
   ]
  },
  {
   "cell_type": "code",
   "execution_count": 25,
   "metadata": {},
   "outputs": [
    {
     "name": "stderr",
     "output_type": "stream",
     "text": [
      "C:\\Users\\vivek\\AppData\\Local\\Temp\\ipykernel_35352\\3010656464.py:7: SettingWithCopyWarning: \n",
      "A value is trying to be set on a copy of a slice from a DataFrame.\n",
      "Try using .loc[row_indexer,col_indexer] = value instead\n",
      "\n",
      "See the caveats in the documentation: https://pandas.pydata.org/pandas-docs/stable/user_guide/indexing.html#returning-a-view-versus-a-copy\n",
      "  df_noout['Units Sold'] = df_noout.apply(nan_to_median_US, axis=1)\n"
     ]
    }
   ],
   "source": [
    "def nan_to_median_US(row):\n",
    "    if pd.isnull(row['Units Sold']):\n",
    "        return median_units_sold_per_prod[row['Product']]\n",
    "    else:\n",
    "        return row['Units Sold']\n",
    "    \n",
    "df_noout['Units Sold'] = df_noout.apply(nan_to_median_US, axis=1)"
   ]
  },
  {
   "cell_type": "code",
   "execution_count": 26,
   "metadata": {},
   "outputs": [
    {
     "name": "stdout",
     "output_type": "stream",
     "text": [
      "<class 'pandas.core.frame.DataFrame'>\n",
      "Index: 847 entries, 1 to 1048\n",
      "Data columns (total 5 columns):\n",
      " #   Column      Non-Null Count  Dtype  \n",
      "---  ------      --------------  -----  \n",
      " 0   Product     847 non-null    object \n",
      " 1   Region      847 non-null    object \n",
      " 2   Price       847 non-null    float64\n",
      " 3   Units Sold  847 non-null    float64\n",
      " 4   Sale Date   847 non-null    object \n",
      "dtypes: float64(2), object(3)\n",
      "memory usage: 39.7+ KB\n"
     ]
    }
   ],
   "source": [
    "df_noout.info()"
   ]
  },
  {
   "attachments": {},
   "cell_type": "markdown",
   "metadata": {},
   "source": [
    "No we have completed the data cleaning process as our dataset no longer contains null values or outliers.\n",
    "\n",
    "### Now we can begin to use our cleaned data to better understand how various products perform across regions and devise a sales strategy for next year."
   ]
  },
  {
   "attachments": {},
   "cell_type": "markdown",
   "metadata": {},
   "source": [
    "Let's begin by plotting a bar graph of each region and how many orders each one got"
   ]
  },
  {
   "cell_type": "code",
   "execution_count": 27,
   "metadata": {},
   "outputs": [
    {
     "data": {
      "text/plain": [
       "<Axes: xlabel='Region'>"
      ]
     },
     "execution_count": 27,
     "metadata": {},
     "output_type": "execute_result"
    },
    {
     "data": {
      "image/png": "[encoded data removed]",
      "text/plain": [
       "<Figure size 640x480 with 1 Axes>"
      ]
     },
     "metadata": {},
     "output_type": "display_data"
    }
   ],
   "source": [
    "df_noout['Region'].value_counts().plot(kind='bar')"
   ]
  },
  {
   "attachments": {},
   "cell_type": "markdown",
   "metadata": {},
   "source": [
    "From this bar graph we can see that Region 5 has the most orders and Region 6 has the least orders.\n",
    "\n",
    "Since this data is from an e-commerce company, a business strategy that they can employ is having their distribution centers in regions that receive the most orders. From our analysis we can see that the top 5 regions in terms of orders are regions: 5,9,2,7,8. By placing distribution centers at these locations the company (or customers) can save on delivery costs."
   ]
  },
  {
   "attachments": {},
   "cell_type": "markdown",
   "metadata": {},
   "source": [
    "Next we can plot a bar graph that displays how many products were sold in each region."
   ]
  },
  {
   "cell_type": "code",
   "execution_count": 28,
   "metadata": {},
   "outputs": [
    {
     "data": {
      "text/plain": [
       "<Axes: xlabel='Region'>"
      ]
     },
     "execution_count": 28,
     "metadata": {},
     "output_type": "execute_result"
    },
    {
     "data": {
      "image/png": "[encoded data removed]",
      "text/plain": [
       "<Figure size 2000x800 with 1 Axes>"
      ]
     },
     "metadata": {},
     "output_type": "display_data"
    }
   ],
   "source": [
    "units_sold_per_region = df_noout.groupby('Region')['Units Sold'].sum().sort_values(ascending = False)\n",
    "units_sold_per_region.plot(kind = 'bar', figsize=(20, 8))"
   ]
  },
  {
   "attachments": {},
   "cell_type": "markdown",
   "metadata": {},
   "source": [
    "We can see that even though Region 7 placed 4th in number of orders, it placed 2nd in number of units sold. This tell us that even though Region 7 might get fewer orders, these orders are for a lot of units. It is important to keep in mind that more orders does not necessarily mean more units solds.\n",
    "\n",
    "So the top 5 regions in terms of units sold from most to least units sold are regions: 5, 7, 2, 9 and 8. By knowing this the ecommerce company can stock more products in regions 5, 7, 2, 9, 8 and they can stock less products in regions 1, 10, 4, 3, and 6. This will allow them to prevent overstocking or stock outs."
   ]
  },
  {
   "attachments": {},
   "cell_type": "markdown",
   "metadata": {},
   "source": [
    "We can observe how many orders each product got."
   ]
  },
  {
   "cell_type": "code",
   "execution_count": 29,
   "metadata": {},
   "outputs": [
    {
     "data": {
      "text/plain": [
       "<Axes: xlabel='Product'>"
      ]
     },
     "execution_count": 29,
     "metadata": {},
     "output_type": "execute_result"
    },
    {
     "data": {
      "image/png": "[encoded data removed]",
      "text/plain": [
       "<Figure size 2000x800 with 1 Axes>"
      ]
     },
     "metadata": {},
     "output_type": "display_data"
    }
   ],
   "source": [
    "df_noout['Product'].value_counts().sort_values(ascending = False).plot(kind='bar', figsize=(20, 8))"
   ]
  },
  {
   "attachments": {},
   "cell_type": "markdown",
   "metadata": {},
   "source": [
    "From this graph we can see that products 4, 24, 43, 8, and 40 were the top 5 products in terms of number of orders. But we need to keep in mind that the number of times a product was ordered is not the same as how many units were sold. So let's plot how many units of each product was sold."
   ]
  },
  {
   "cell_type": "code",
   "execution_count": 30,
   "metadata": {},
   "outputs": [
    {
     "data": {
      "text/plain": [
       "<Axes: xlabel='Product'>"
      ]
     },
     "execution_count": 30,
     "metadata": {},
     "output_type": "execute_result"
    },
    {
     "data": {
      "image/png": "[encoded data removed]",
      "text/plain": [
       "<Figure size 2000x800 with 1 Axes>"
      ]
     },
     "metadata": {},
     "output_type": "display_data"
    }
   ],
   "source": [
    "sales_per_prod = df_noout.groupby('Product')['Units Sold'].sum().sort_values(ascending = False)\n",
    "sales_per_prod.plot(kind = 'bar', figsize=(20, 8))"
   ]
  },
  {
   "attachments": {},
   "cell_type": "markdown",
   "metadata": {},
   "source": [
    "We can see the top 5 most selling products were products: 24, 8, 4, 40, and 43. \n",
    "\n",
    "On the other hand the bottom 5 least selling products were: 33, 6, 25, 47, and 39.\n",
    "\n",
    "The sales strategy that the company can employ is to shift advertising resources away from the products [24, 8, 4, 40, and 43] and towards products [33, 6, 25, 47, and 39] since the bottom 5 products could likely benefit from more promotion and the top 5 products don't require it as much."
   ]
  },
  {
   "attachments": {},
   "cell_type": "markdown",
   "metadata": {},
   "source": [
    "Now we can plot the prices at which products have been sold to see at what price do products get the most sales."
   ]
  },
  {
   "cell_type": "code",
   "execution_count": 31,
   "metadata": {},
   "outputs": [
    {
     "data": {
      "text/plain": [
       "<Axes: >"
      ]
     },
     "execution_count": 31,
     "metadata": {},
     "output_type": "execute_result"
    },
    {
     "data": {
      "image/png": "[encoded data removed]",
      "text/plain": [
       "<Figure size 640x480 with 1 Axes>"
      ]
     },
     "metadata": {},
     "output_type": "display_data"
    }
   ],
   "source": [
    "df_noout['Price'].hist()"
   ]
  },
  {
   "attachments": {},
   "cell_type": "markdown",
   "metadata": {},
   "source": [
    "Here we can see that products priced under $100 tend to sell the most. But we can get an even closer look by eliminating products priced over $100."
   ]
  },
  {
   "cell_type": "code",
   "execution_count": 32,
   "metadata": {},
   "outputs": [
    {
     "name": "stderr",
     "output_type": "stream",
     "text": [
      "C:\\Users\\vivek\\AppData\\Local\\Temp\\ipykernel_35352\\1452410602.py:1: UserWarning: Boolean Series key will be reindexed to match DataFrame index.\n",
      "  df_price_0to100 = df_noout[df['Price'] <= 100]\n"
     ]
    },
    {
     "data": {
      "text/plain": [
       "<Axes: >"
      ]
     },
     "execution_count": 32,
     "metadata": {},
     "output_type": "execute_result"
    },
    {
     "data": {
      "image/png": "[encoded data removed]",
      "text/plain": [
       "<Figure size 640x480 with 1 Axes>"
      ]
     },
     "metadata": {},
     "output_type": "display_data"
    }
   ],
   "source": [
    "df_price_0to100 = df_noout[df['Price'] <= 100]\n",
    "df_price_0to100['Price'].hist()"
   ]
  },
  {
   "attachments": {},
   "cell_type": "markdown",
   "metadata": {},
   "source": [
    "Now we can see that products that are priced between $20-$40 get the most sales. Therefore the company can try to sell more products at this price range to increase overall sales."
   ]
  },
  {
   "attachments": {},
   "cell_type": "markdown",
   "metadata": {},
   "source": [
    "Next we can check which product is the most and least popular in each region"
   ]
  },
  {
   "cell_type": "code",
   "execution_count": 33,
   "metadata": {},
   "outputs": [
    {
     "name": "stdout",
     "output_type": "stream",
     "text": [
      "['Region_2', 'Region_5', 'Region_8', 'Region_4', 'Region_10', 'Region_1', 'Region_7', 'Region_6', 'Region_9', 'Region_3']\n",
      "Most sold item in Region_2 is Product_49\n",
      "Most sold item in Region_5 is Product_8\n",
      "Most sold item in Region_8 is Product_10\n",
      "Most sold item in Region_4 is Product_45\n",
      "Most sold item in Region_10 is Product_40\n",
      "Most sold item in Region_1 is Product_10\n",
      "Most sold item in Region_7 is Product_24\n",
      "Most sold item in Region_6 is Product_7\n",
      "Most sold item in Region_9 is Product_24\n",
      "Most sold item in Region_3 is Product_26\n"
     ]
    }
   ],
   "source": [
    "list_of_regions = df_noout['Region'].unique().tolist()\n",
    "print(list_of_regions)\n",
    "\n",
    "for x in list_of_regions :\n",
    "    current_region = df[df['Region'] == x]\n",
    "\n",
    "    units_sold_per_prod = current_region.groupby('Product')['Units Sold'].sum()\n",
    "    top_seller = units_sold_per_prod.idxmax()\n",
    "\n",
    "    print(\"Most sold item in \" + x + \" is \" + top_seller)\n"
   ]
  },
  {
   "attachments": {},
   "cell_type": "markdown",
   "metadata": {},
   "source": [
    "By knowing which product is the most popular in each region, the company can make sure to always have that product stocked in the distribution facility closest to that region.\n",
    "\n",
    "Next, we can plot the number of units sold in each order."
   ]
  },
  {
   "cell_type": "code",
   "execution_count": 34,
   "metadata": {},
   "outputs": [
    {
     "data": {
      "text/plain": [
       "<Axes: >"
      ]
     },
     "execution_count": 34,
     "metadata": {},
     "output_type": "execute_result"
    },
    {
     "data": {
      "image/png": "[encoded data removed]",
      "text/plain": [
       "<Figure size 640x480 with 1 Axes>"
      ]
     },
     "metadata": {},
     "output_type": "display_data"
    }
   ],
   "source": [
    "df_noout['Units Sold'].hist()"
   ]
  },
  {
   "attachments": {},
   "cell_type": "markdown",
   "metadata": {},
   "source": [
    "We can see that most probable number of units to be sold in an order is 10 to 13 units. With this information the ecommerce company can buy more packaging material that can fit 10 to 13 products and buy less packaging material that would be used for orders of less than 8 products or more than 15 products."
   ]
  },
  {
   "attachments": {},
   "cell_type": "markdown",
   "metadata": {},
   "source": [
    "Finally we can observe how many orders were placed during different times of the year.\n",
    "\n",
    "Before we begin let's make sure that our data set is not missing any dates for a particular year as that would skew the data."
   ]
  },
  {
   "cell_type": "code",
   "execution_count": 35,
   "metadata": {},
   "outputs": [
    {
     "name": "stdout",
     "output_type": "stream",
     "text": [
      "Number of orders in 2022 is 310\n",
      "Number of orders in 2023 is 298\n",
      "Number of orders in 2024 is 239\n",
      "Number of orders in 2024 during and before September 239\n",
      "Number of orders in 2024 during or after November is 0\n"
     ]
    },
    {
     "name": "stderr",
     "output_type": "stream",
     "text": [
      "C:\\Users\\vivek\\AppData\\Local\\Temp\\ipykernel_35352\\1976316787.py:1: SettingWithCopyWarning: \n",
      "A value is trying to be set on a copy of a slice from a DataFrame.\n",
      "Try using .loc[row_indexer,col_indexer] = value instead\n",
      "\n",
      "See the caveats in the documentation: https://pandas.pydata.org/pandas-docs/stable/user_guide/indexing.html#returning-a-view-versus-a-copy\n",
      "  df_noout['DATE TIME Sale Date'] = pd.to_datetime(df_noout['Sale Date'])\n"
     ]
    }
   ],
   "source": [
    "df_noout['DATE TIME Sale Date'] = pd.to_datetime(df_noout['Sale Date'])\n",
    "df_noout.head()\n",
    "order_in_2022 = df_noout[df_noout['DATE TIME Sale Date'].dt.year == 2022]\n",
    "print('Number of orders in 2022 is ' + str(len(order_in_2022)))\n",
    "\n",
    "order_in_2023 = df_noout[df_noout['DATE TIME Sale Date'].dt.year == 2023]\n",
    "print('Number of orders in 2023 is ' + str(len(order_in_2023)))\n",
    "\n",
    "order_in_2024 = df_noout[df_noout['DATE TIME Sale Date'].dt.year == 2024]\n",
    "print('Number of orders in 2024 is ' + str(len(order_in_2024)))\n",
    "\n",
    "order_in_2024_before_sept = df_noout[(df_noout['DATE TIME Sale Date'].dt.year == 2024) & (df_noout['DATE TIME Sale Date'].dt.month <= 9)]\n",
    "print('Number of orders in 2024 during and before September ' + str(len(order_in_2024_before_sept)))\n",
    "\n",
    "order_in_2024_after_nov = df_noout[(df_noout['DATE TIME Sale Date'].dt.year == 2024) & (df_noout['DATE TIME Sale Date'].dt.month >= 10)]\n",
    "print('Number of orders in 2024 during or after November is ' + str(len(order_in_2024_after_nov)))"
   ]
  },
  {
   "attachments": {},
   "cell_type": "markdown",
   "metadata": {},
   "source": [
    "We can see that there are much fewer orders for 2024, this is because the data for 2024 stops at the month of September. So we can elimnate 2024 before looking at the number of orders for each quarter of the year."
   ]
  },
  {
   "cell_type": "code",
   "execution_count": 36,
   "metadata": {},
   "outputs": [
    {
     "name": "stderr",
     "output_type": "stream",
     "text": [
      "C:\\Users\\vivek\\AppData\\Local\\Temp\\ipykernel_35352\\1483842196.py:2: SettingWithCopyWarning: \n",
      "A value is trying to be set on a copy of a slice from a DataFrame.\n",
      "Try using .loc[row_indexer,col_indexer] = value instead\n",
      "\n",
      "See the caveats in the documentation: https://pandas.pydata.org/pandas-docs/stable/user_guide/indexing.html#returning-a-view-versus-a-copy\n",
      "  df_before_2024['Quarter'] = df_before_2024['DATE TIME Sale Date'].dt.quarter\n"
     ]
    },
    {
     "name": "stdout",
     "output_type": "stream",
     "text": [
      "Quarter\n",
      "1    163\n",
      "2    149\n",
      "3    144\n",
      "4    152\n",
      "dtype: int64\n"
     ]
    },
    {
     "data": {
      "image/png": "[encoded data removed]",
      "text/plain": [
       "<Figure size 800x600 with 1 Axes>"
      ]
     },
     "metadata": {},
     "output_type": "display_data"
    }
   ],
   "source": [
    "df_before_2024 = df_noout[df_noout['DATE TIME Sale Date'].dt.year <= 2023]\n",
    "df_before_2024['Quarter'] = df_before_2024['DATE TIME Sale Date'].dt.quarter\n",
    "ordrs_per_qrtr = df_before_2024.groupby('Quarter').size()\n",
    "\n",
    "ordrs_per_qrtr.plot(kind='bar', figsize=(8, 6))\n",
    "print(ordrs_per_qrtr)"
   ]
  },
  {
   "attachments": {},
   "cell_type": "markdown",
   "metadata": {},
   "source": [
    "From this graph we can see that the number of orders per quarter are about the same. Therefor the company would not need to change any of their strategies in terms of increasing sales in any particular quarter."
   ]
  },
  {
   "attachments": {},
   "cell_type": "markdown",
   "metadata": {},
   "source": [
    "## Answering the 3 questions\n",
    "\n",
    "### 1) What conclusions can you draw about sales performance of various products and regions?\n",
    "From my exploratory analysis I was able to conclude the following:\n",
    "- a.\tThe top 5 regions in terms of most orders placed are regions: 5, 9, 2, 7, 8 (This list is ordered from most to least orders placed).\n",
    "- b.\tThe top 5 regions in terms of most units sold are regions: 5, 7, 2, 9, 8 (This list is ordered from most to least units sold). The bottom 5 regions in terms of units sold are: 1, 10, 4, 3, and 6 ( This list is ordered from most to least units sold).\n",
    "- c.\tThe following lists are ordered from products with the most sales to products with the least sales. The top 5 most selling products were products: 24, 8, 4, 40, and 43. The least selling products were 33, 6, 25, 47, and 39.\n",
    "- d.\tProducts that are priced between $20 to $40 sell the most.\n",
    "- e.\tThese are the most popular items in each region: \n",
    "\t1. Most sold item in Region_2 is Product_49\n",
    "\t2. Most sold item in Region_5 is Product_8\n",
    "\t3. Most sold item in Region_8 is Product_10\n",
    "\t4. Most sold item in Region_4 is Product_45\n",
    "\t5. Most sold item in Region_10 is Product_40\n",
    "\t6. Most sold item in Region_1 is Product_10\n",
    "\t7. Most sold item in Region_7 is Product_24\n",
    "\t8. Most sold item in Region_6 is Product_7\n",
    "\t9. Most sold item in Region_9 is Product_24\n",
    "\t10. Most sold item in Region_3 is Product_26\n",
    "\n",
    "- f. The most probable number of units to be sold in an order is between 10 to 13 units.\n",
    "- g. The number of orders per quarter is about the same for every quarter. With the lowest selling quarter sitting at 144 orders and the highest selling quarter at 163 orders. Thus there is only a 19 order difference between the highest and lowest quarters in terms of orders. \n",
    " \n",
    "### 2) What recommendations do you have for the business?\n",
    "The following recommendations correspond to the insights that were mentioned in the previous answer.\n",
    "- a.\tSince this data is from an e-commerce company, a business strategy that they can employ is having their distribution centers in regions that receive the most orders. From our analysis we can see that the top 5 regions in terms of orders are regions: 5,9,2,7,8. By placing distribution centers at these locations the company (or customers) can save on shipping costs.\n",
    "\n",
    "- b.\tWe can see that even though Region 7 placed 4th in number of orders, it placed 2nd in number of units sold. This tell us that even though Region 7 might get fewer orders, these orders are for a lot of units. It is important to keep in mind that more orders does not necessarily mean more units sold. So the top 5 regions in terms of units sold from most to least units sold are regions: 5, 7, 2, 9 and 8. By knowing this the ecommerce can stock more products in regions 5, 7, 2, 9, 8 and they can stock less products in regions 1, 10, 4, 3, and 6. This will allow them to prevent overstocking or stock outs.\n",
    "\n",
    "- c.\tWe can see the top 5 most selling products were products: 24, 8, 4, 40 and 43. On the other hand the bottom 5 least selling products were: 33, 6, 25, 47 and 39. The sales strategy that the company can employ is to shift advertising resources away from the products [24, 8, 4, 40, and 43] and towards products [33, 6, 25, 47 and 39] since the bottom 5 products could likely benefit from more promotion and the top 5 products don't require it as much.\n",
    "\n",
    "- d.\tSince products that are priced between $20-$40 get the most sales the company can try to sell more products at this price range to increase overall sales.\n",
    "\n",
    "- e.\tBy knowing which product is the most popular in each region, the company can make sure to always have that product stocked in the distribution facility closest to that region.\n",
    "\n",
    "- f.\tWe can see that the most probable number of units to be sold in an order is 10 to 13 units. With this information the ecommerce company can buy more packaging material that can fit 10 to 13 products and buy less packaging material that would be used for orders of less than 8 products or more than 15 products as orders that small or that large are rare.\n",
    "\n",
    "- g.\tThe number of orders per quarter is about the same for every quarter. Therefore the company would not need to change any of their strategies in terms of increasing sales in any particular quarter.\n",
    " \n",
    "### 3) Describe your data cleaning approach. How and why did you decide on which cleaning techniques to use?\n",
    "To clean the data I did the following:\n",
    "\n",
    "- I did not impute the categorical values \"Product\" and \"Region\" because if I set all the null values of those columns to the mode of the category that may cause one region or product to seem more dominant than it really is. Instead I dropped the rows that have null values for 'Product' and 'Region'.  \n",
    "\n",
    "- By observing the descriptive statistics I noticed  that there is a large range in prices, as the range is from $0.19 to $2636.9. This could either mean that there are some products that are very expensive and some that are very cheap OR this could mean that we have outliers that are possibly due to some error. With further analysis I noticed that products 27, 34, 49, and 50 have mean prices larger than $150. I then figured out that each of those products have once been sold at over $650. Since those sales are likely to be errors I eliminated those outliers.\n",
    "\n",
    "- Then I decided to impute the missing \"Price\" values by using the median price for each product respectively. I decided to do this since most products were sold at a similar price range. Before imputing the prices in this manner I created 3 graphs to make sure that there isn't a particular region, product or sale date where there is a skewed number of missing prices. The graphs revealed that no region had more than 12 missing prices, no product had more than 6 missing prices and no sale date had more than 2 missing prices. Therefore I believed that the missing prices aren't skewed in any way and it was safe to impute.\n",
    "\n",
    "- I imputed the missing \"Units Sold\" values in the same way. If a units sold value was missing I populated it with the median number of units sold for that product. I believe that that was an appropriate approach as the number of units sold followed a normal distribution and that populating missing values with the median number of units sold for that particular product would be an accurate representation of the data."
   ]
  }
 ],
 "metadata": {
  "kernelspec": {
   "display_name": "base",
   "language": "python",
   "name": "python3"
  },
  "language_info": {
   "codemirror_mode": {
    "name": "ipython",
    "version": 3
   },
   "file_extension": ".py",
   "mimetype": "text/x-python",
   "name": "python",
   "nbconvert_exporter": "python",
   "pygments_lexer": "ipython3",
   "version": "3.10.11"
  },
  "orig_nbformat": 4
 },
 "nbformat": 4,
 "nbformat_minor": 2
}
